{
  "nbformat": 4,
  "nbformat_minor": 0,
  "metadata": {
    "colab": {
      "provenance": [],
      "collapsed_sections": [],
      "mount_file_id": "1tOc1R-aTqxerTaCqUsc9p0KSOw6fHC4R",
      "authorship_tag": "ABX9TyOtMRMFQm7tTB3+1Vc4jpx6",
      "include_colab_link": true
    },
    "kernelspec": {
      "name": "python3",
      "display_name": "Python 3"
    },
    "language_info": {
      "name": "python"
    }
  },
  "cells": [
    {
      "cell_type": "markdown",
      "metadata": {
        "id": "view-in-github",
        "colab_type": "text"
      },
      "source": [
        "<a href=\"https://colab.research.google.com/github/sidneyferrari/Portifolio/blob/main/Customer_Churn_EDA/Projeto_Churn_EDA.ipynb\" target=\"_parent\"><img src=\"https://colab.research.google.com/assets/colab-badge.svg\" alt=\"Open In Colab\"/></a>"
      ]
    },
    {
      "cell_type": "markdown",
      "source": [
        "# PROJETO CHURN - EDA\n",
        "\n",
        "# **1 - DEFININDO O PROBLEMA**\n",
        "\n",
        "**Problema:**\n",
        "\n",
        "Qual o perfil dos clientes que deixaram de utilizar os serviços da empresa?\n",
        "\n",
        "O quanto a empresa deixa de faturar por este motivo?\n",
        "\n",
        "**Objetivos:**\n",
        "\n",
        "Conhecer o perfil dos clientes da Telco que deixarm de utilizar os serviços da empresa.\n",
        "\n",
        "Identificar quantoa Telco reduz a sua receita mensalmente e anualmente com a rotatividade dos usuários."
      ],
      "metadata": {
        "id": "uwX4qfZfgW7o"
      }
    },
    {
      "cell_type": "markdown",
      "source": [
        "# **2 - PREPARANDO OS DADOS**\n",
        "\n",
        "# **2.1 - Descrição dos dados**\n",
        "\n",
        "> *Dados que estão disponíveis:*\n",
        "\n",
        "Neste projeto foi utilizado o conjunto de dados da empresa de telecomunicações \"Telco\", que está disponível no Kaggle com o título \"Telco Costumer Churn\".\n",
        "\n",
        "Disponível em: https://www.kaggle.com/dataset/blastchar/telco-customer-churn\n",
        "\n",
        "*Importante*: O dataset original \"WA_Fn-UseC_-Telco-Customer-Churn.csv\" foi salvo em CSV nomeado como **Dados_Telco.csv**\n",
        "\n",
        "*Nota*: salvar CSV como - CSV UTF-8 (comma delimited)(.csv)\n",
        "\n",
        "O Dataset \"Dados_Telco.csv\" contém 7043 linhas onde cada linha representa um cliente e 21 colunas que contém os atributos do cliente.\n",
        "\n",
        "A coluna \"Churn\" é o nosso target (alvo) e representa os clientes que saíram no último mês.\n",
        "\n",
        "\n",
        "\n",
        ">*Dicionário de variáveis:*\n",
        "\n",
        "| **Atributo**     | **Descricao**                                                                                                     | **Dominios**                                              | **Tipo de campo** |\n",
        "|------------------|-------------------------------------------------------------------------------------------------------------------|-----------------------------------------------------------|-------------------|\n",
        "| customerID       | Customer ID                                                                                                       | Ex: 7590-VHVEG                                            | Texto             |\n",
        "| Gender           | Whether the customer is a male ou a female                                                                        | Male. Female                                              | Texto             |\n",
        "| SeniorCitizen    | Whether the customer is a senior citizen ou not (1, 0)                                                            | 1 senior, 0 no                                            | Binario           |\n",
        "| Partner          | Whether the customer has a partner ou not (Yes, No)                                                               | Yes, No                                                   | Texto             |\n",
        "| Dependents       | Whether the customer has dependents or not (Yes, No)                                                              | Yes, No                                                   | Texto             |\n",
        "| Tenure           | Number of months the customer has stayed with the company                                                         | 1, 34, 2, 45, ...                                         | Inteiro           |\n",
        "| PhoneService     | Whether the customer has a phone service or not (Yes, No)                                                         | Yes, No                                                   | Texto             |\n",
        "| MultipleLines    | Whether customer has multiple lines or not (Yes, No, No phone service)                                            | Yes, No, No phone service                                 | Texto             |\n",
        "| InternetService  | Customer's internet service provide (DSL, Fiber optic, No)                                                        | DSL, Fiber optic, No                                      | Texto             |\n",
        "| OnlineSecurity   | Whwther the customer has online security or not (Yes, No, No intenet service)                                     | Yes, No, No internet service                              | Textp             |\n",
        "| OnlineBackup     | Whether the customer has online backup or not (Yes, No, No internet service)                                      | Yes, No, No internet service                              | Texto             |\n",
        "| DeviceProtection | Whether the customer has device protection or not (Yes, No, No internet service)                                  | Yes, No, No internet service                              | Texto             |\n",
        "| TechSupport      | Whether the customer has tech support ou not (Yes, No, No internet service)                                       | Yes, No, No internet service                              | Texto             |\n",
        "| StreamingTV      | Whether the customer has streaming TV or not (Yes, No, No internet service)                                       | Yes, No, No internet service                              | Texto             |\n",
        "| StreamingMovies  | Whether the customer has streaming movies or not (Yes, No, No internet service)                                   | Yes, No, No internet service                              | Texto             |\n",
        "| Contract         | The contract term of the customer (Month-to-month, One year, Two year)                                            | Month-to-month, One year, Two year                        | Texto             |\n",
        "| PaperlessBilling | Whether the customer has paperless billing ou not (Yes, No)                                                       | Yes, No                                                   | Texto             |\n",
        "| PaymentMethod    | The customer's payment method (Eletronic check, Malled check, Bank transfer (automatic), Credit card (automatic)) | Eletronic check, Malled check, Bank transfer, Credit card | Texto             |\n",
        "| MonthlyCharges   | The amount charged to the customer monthly                                                                        | Ex: 29.95; 53.85                                          | Float             |\n",
        "| TotalCharges     | The total amount charged to the customer                                                                          | Ex: 1889,5; 108,15                                        | Object (texto)    |\n",
        "| Churn            | Whether the customer churned ou not (Yes or No)                                                                   | Yes, No                                                   | Texto             |\n",
        "\n",
        "\n"
      ],
      "metadata": {
        "id": "oGvXQ6CHi2K6"
      }
    },
    {
      "cell_type": "markdown",
      "source": [
        "# **2.2 - Processando os dados**\n",
        "\n",
        "\n",
        "> Lendo os dados disponíveis\n",
        "\n",
        "dados.csv: dataset que será utilizado como arquivo de trabalho\n"
      ],
      "metadata": {
        "id": "Ssx1rUlzr3Yp"
      }
    },
    {
      "cell_type": "code",
      "source": [
        "import pandas as pd\n",
        "dados = pd.read_csv(\"/content/drive/My Drive/Colab Notebooks/Projeto Churn - EDA/Dados_Telco.csv\", sep=\",\")\n",
        "dados"
      ],
      "metadata": {
        "colab": {
          "base_uri": "https://localhost:8080/",
          "height": 644
        },
        "id": "2iLy7zdFspS8",
        "outputId": "9779b87a-2a49-44bd-9114-964357ccfabd"
      },
      "execution_count": 1,
      "outputs": [
        {
          "output_type": "execute_result",
          "data": {
            "text/plain": [
              "      customerID  gender  SeniorCitizen Partner Dependents  tenure  \\\n",
              "0     7590-VHVEG  Female              0     Yes         No       1   \n",
              "1     5575-GNVDE    Male              0      No         No      34   \n",
              "2     3668-QPYBK    Male              0      No         No       2   \n",
              "3     7795-CFOCW    Male              0      No         No      45   \n",
              "4     9237-HQITU  Female              0      No         No       2   \n",
              "...          ...     ...            ...     ...        ...     ...   \n",
              "7038  6840-RESVB    Male              0     Yes        Yes      24   \n",
              "7039  2234-XADUH  Female              0     Yes        Yes      72   \n",
              "7040  4801-JZAZL  Female              0     Yes        Yes      11   \n",
              "7041  8361-LTMKD    Male              1     Yes         No       4   \n",
              "7042  3186-AJIEK    Male              0      No         No      66   \n",
              "\n",
              "     PhoneService     MultipleLines InternetService OnlineSecurity  ...  \\\n",
              "0              No  No phone service             DSL             No  ...   \n",
              "1             Yes                No             DSL            Yes  ...   \n",
              "2             Yes                No             DSL            Yes  ...   \n",
              "3              No  No phone service             DSL            Yes  ...   \n",
              "4             Yes                No     Fiber optic             No  ...   \n",
              "...           ...               ...             ...            ...  ...   \n",
              "7038          Yes               Yes             DSL            Yes  ...   \n",
              "7039          Yes               Yes     Fiber optic             No  ...   \n",
              "7040           No  No phone service             DSL            Yes  ...   \n",
              "7041          Yes               Yes     Fiber optic             No  ...   \n",
              "7042          Yes                No     Fiber optic            Yes  ...   \n",
              "\n",
              "     DeviceProtection TechSupport StreamingTV StreamingMovies        Contract  \\\n",
              "0                  No          No          No              No  Month-to-month   \n",
              "1                 Yes          No          No              No        One year   \n",
              "2                  No          No          No              No  Month-to-month   \n",
              "3                 Yes         Yes          No              No        One year   \n",
              "4                  No          No          No              No  Month-to-month   \n",
              "...               ...         ...         ...             ...             ...   \n",
              "7038              Yes         Yes         Yes             Yes        One year   \n",
              "7039              Yes          No         Yes             Yes        One year   \n",
              "7040               No          No          No              No  Month-to-month   \n",
              "7041               No          No          No              No  Month-to-month   \n",
              "7042              Yes         Yes         Yes             Yes        Two year   \n",
              "\n",
              "     PaperlessBilling              PaymentMethod MonthlyCharges  TotalCharges  \\\n",
              "0                 Yes           Electronic check          29.85         29.85   \n",
              "1                  No               Mailed check          56.95        1889.5   \n",
              "2                 Yes               Mailed check          53.85        108.15   \n",
              "3                  No  Bank transfer (automatic)          42.30       1840.75   \n",
              "4                 Yes           Electronic check          70.70        151.65   \n",
              "...               ...                        ...            ...           ...   \n",
              "7038              Yes               Mailed check          84.80        1990.5   \n",
              "7039              Yes    Credit card (automatic)         103.20        7362.9   \n",
              "7040              Yes           Electronic check          29.60        346.45   \n",
              "7041              Yes               Mailed check          74.40         306.6   \n",
              "7042              Yes  Bank transfer (automatic)         105.65        6844.5   \n",
              "\n",
              "     Churn  \n",
              "0       No  \n",
              "1       No  \n",
              "2      Yes  \n",
              "3       No  \n",
              "4      Yes  \n",
              "...    ...  \n",
              "7038    No  \n",
              "7039    No  \n",
              "7040    No  \n",
              "7041   Yes  \n",
              "7042    No  \n",
              "\n",
              "[7043 rows x 21 columns]"
            ],
            "text/html": [
              "\n",
              "  <div id=\"df-79fb515b-236f-4d5a-a40d-4701f0c8d54b\">\n",
              "    <div class=\"colab-df-container\">\n",
              "      <div>\n",
              "<style scoped>\n",
              "    .dataframe tbody tr th:only-of-type {\n",
              "        vertical-align: middle;\n",
              "    }\n",
              "\n",
              "    .dataframe tbody tr th {\n",
              "        vertical-align: top;\n",
              "    }\n",
              "\n",
              "    .dataframe thead th {\n",
              "        text-align: right;\n",
              "    }\n",
              "</style>\n",
              "<table border=\"1\" class=\"dataframe\">\n",
              "  <thead>\n",
              "    <tr style=\"text-align: right;\">\n",
              "      <th></th>\n",
              "      <th>customerID</th>\n",
              "      <th>gender</th>\n",
              "      <th>SeniorCitizen</th>\n",
              "      <th>Partner</th>\n",
              "      <th>Dependents</th>\n",
              "      <th>tenure</th>\n",
              "      <th>PhoneService</th>\n",
              "      <th>MultipleLines</th>\n",
              "      <th>InternetService</th>\n",
              "      <th>OnlineSecurity</th>\n",
              "      <th>...</th>\n",
              "      <th>DeviceProtection</th>\n",
              "      <th>TechSupport</th>\n",
              "      <th>StreamingTV</th>\n",
              "      <th>StreamingMovies</th>\n",
              "      <th>Contract</th>\n",
              "      <th>PaperlessBilling</th>\n",
              "      <th>PaymentMethod</th>\n",
              "      <th>MonthlyCharges</th>\n",
              "      <th>TotalCharges</th>\n",
              "      <th>Churn</th>\n",
              "    </tr>\n",
              "  </thead>\n",
              "  <tbody>\n",
              "    <tr>\n",
              "      <th>0</th>\n",
              "      <td>7590-VHVEG</td>\n",
              "      <td>Female</td>\n",
              "      <td>0</td>\n",
              "      <td>Yes</td>\n",
              "      <td>No</td>\n",
              "      <td>1</td>\n",
              "      <td>No</td>\n",
              "      <td>No phone service</td>\n",
              "      <td>DSL</td>\n",
              "      <td>No</td>\n",
              "      <td>...</td>\n",
              "      <td>No</td>\n",
              "      <td>No</td>\n",
              "      <td>No</td>\n",
              "      <td>No</td>\n",
              "      <td>Month-to-month</td>\n",
              "      <td>Yes</td>\n",
              "      <td>Electronic check</td>\n",
              "      <td>29.85</td>\n",
              "      <td>29.85</td>\n",
              "      <td>No</td>\n",
              "    </tr>\n",
              "    <tr>\n",
              "      <th>1</th>\n",
              "      <td>5575-GNVDE</td>\n",
              "      <td>Male</td>\n",
              "      <td>0</td>\n",
              "      <td>No</td>\n",
              "      <td>No</td>\n",
              "      <td>34</td>\n",
              "      <td>Yes</td>\n",
              "      <td>No</td>\n",
              "      <td>DSL</td>\n",
              "      <td>Yes</td>\n",
              "      <td>...</td>\n",
              "      <td>Yes</td>\n",
              "      <td>No</td>\n",
              "      <td>No</td>\n",
              "      <td>No</td>\n",
              "      <td>One year</td>\n",
              "      <td>No</td>\n",
              "      <td>Mailed check</td>\n",
              "      <td>56.95</td>\n",
              "      <td>1889.5</td>\n",
              "      <td>No</td>\n",
              "    </tr>\n",
              "    <tr>\n",
              "      <th>2</th>\n",
              "      <td>3668-QPYBK</td>\n",
              "      <td>Male</td>\n",
              "      <td>0</td>\n",
              "      <td>No</td>\n",
              "      <td>No</td>\n",
              "      <td>2</td>\n",
              "      <td>Yes</td>\n",
              "      <td>No</td>\n",
              "      <td>DSL</td>\n",
              "      <td>Yes</td>\n",
              "      <td>...</td>\n",
              "      <td>No</td>\n",
              "      <td>No</td>\n",
              "      <td>No</td>\n",
              "      <td>No</td>\n",
              "      <td>Month-to-month</td>\n",
              "      <td>Yes</td>\n",
              "      <td>Mailed check</td>\n",
              "      <td>53.85</td>\n",
              "      <td>108.15</td>\n",
              "      <td>Yes</td>\n",
              "    </tr>\n",
              "    <tr>\n",
              "      <th>3</th>\n",
              "      <td>7795-CFOCW</td>\n",
              "      <td>Male</td>\n",
              "      <td>0</td>\n",
              "      <td>No</td>\n",
              "      <td>No</td>\n",
              "      <td>45</td>\n",
              "      <td>No</td>\n",
              "      <td>No phone service</td>\n",
              "      <td>DSL</td>\n",
              "      <td>Yes</td>\n",
              "      <td>...</td>\n",
              "      <td>Yes</td>\n",
              "      <td>Yes</td>\n",
              "      <td>No</td>\n",
              "      <td>No</td>\n",
              "      <td>One year</td>\n",
              "      <td>No</td>\n",
              "      <td>Bank transfer (automatic)</td>\n",
              "      <td>42.30</td>\n",
              "      <td>1840.75</td>\n",
              "      <td>No</td>\n",
              "    </tr>\n",
              "    <tr>\n",
              "      <th>4</th>\n",
              "      <td>9237-HQITU</td>\n",
              "      <td>Female</td>\n",
              "      <td>0</td>\n",
              "      <td>No</td>\n",
              "      <td>No</td>\n",
              "      <td>2</td>\n",
              "      <td>Yes</td>\n",
              "      <td>No</td>\n",
              "      <td>Fiber optic</td>\n",
              "      <td>No</td>\n",
              "      <td>...</td>\n",
              "      <td>No</td>\n",
              "      <td>No</td>\n",
              "      <td>No</td>\n",
              "      <td>No</td>\n",
              "      <td>Month-to-month</td>\n",
              "      <td>Yes</td>\n",
              "      <td>Electronic check</td>\n",
              "      <td>70.70</td>\n",
              "      <td>151.65</td>\n",
              "      <td>Yes</td>\n",
              "    </tr>\n",
              "    <tr>\n",
              "      <th>...</th>\n",
              "      <td>...</td>\n",
              "      <td>...</td>\n",
              "      <td>...</td>\n",
              "      <td>...</td>\n",
              "      <td>...</td>\n",
              "      <td>...</td>\n",
              "      <td>...</td>\n",
              "      <td>...</td>\n",
              "      <td>...</td>\n",
              "      <td>...</td>\n",
              "      <td>...</td>\n",
              "      <td>...</td>\n",
              "      <td>...</td>\n",
              "      <td>...</td>\n",
              "      <td>...</td>\n",
              "      <td>...</td>\n",
              "      <td>...</td>\n",
              "      <td>...</td>\n",
              "      <td>...</td>\n",
              "      <td>...</td>\n",
              "      <td>...</td>\n",
              "    </tr>\n",
              "    <tr>\n",
              "      <th>7038</th>\n",
              "      <td>6840-RESVB</td>\n",
              "      <td>Male</td>\n",
              "      <td>0</td>\n",
              "      <td>Yes</td>\n",
              "      <td>Yes</td>\n",
              "      <td>24</td>\n",
              "      <td>Yes</td>\n",
              "      <td>Yes</td>\n",
              "      <td>DSL</td>\n",
              "      <td>Yes</td>\n",
              "      <td>...</td>\n",
              "      <td>Yes</td>\n",
              "      <td>Yes</td>\n",
              "      <td>Yes</td>\n",
              "      <td>Yes</td>\n",
              "      <td>One year</td>\n",
              "      <td>Yes</td>\n",
              "      <td>Mailed check</td>\n",
              "      <td>84.80</td>\n",
              "      <td>1990.5</td>\n",
              "      <td>No</td>\n",
              "    </tr>\n",
              "    <tr>\n",
              "      <th>7039</th>\n",
              "      <td>2234-XADUH</td>\n",
              "      <td>Female</td>\n",
              "      <td>0</td>\n",
              "      <td>Yes</td>\n",
              "      <td>Yes</td>\n",
              "      <td>72</td>\n",
              "      <td>Yes</td>\n",
              "      <td>Yes</td>\n",
              "      <td>Fiber optic</td>\n",
              "      <td>No</td>\n",
              "      <td>...</td>\n",
              "      <td>Yes</td>\n",
              "      <td>No</td>\n",
              "      <td>Yes</td>\n",
              "      <td>Yes</td>\n",
              "      <td>One year</td>\n",
              "      <td>Yes</td>\n",
              "      <td>Credit card (automatic)</td>\n",
              "      <td>103.20</td>\n",
              "      <td>7362.9</td>\n",
              "      <td>No</td>\n",
              "    </tr>\n",
              "    <tr>\n",
              "      <th>7040</th>\n",
              "      <td>4801-JZAZL</td>\n",
              "      <td>Female</td>\n",
              "      <td>0</td>\n",
              "      <td>Yes</td>\n",
              "      <td>Yes</td>\n",
              "      <td>11</td>\n",
              "      <td>No</td>\n",
              "      <td>No phone service</td>\n",
              "      <td>DSL</td>\n",
              "      <td>Yes</td>\n",
              "      <td>...</td>\n",
              "      <td>No</td>\n",
              "      <td>No</td>\n",
              "      <td>No</td>\n",
              "      <td>No</td>\n",
              "      <td>Month-to-month</td>\n",
              "      <td>Yes</td>\n",
              "      <td>Electronic check</td>\n",
              "      <td>29.60</td>\n",
              "      <td>346.45</td>\n",
              "      <td>No</td>\n",
              "    </tr>\n",
              "    <tr>\n",
              "      <th>7041</th>\n",
              "      <td>8361-LTMKD</td>\n",
              "      <td>Male</td>\n",
              "      <td>1</td>\n",
              "      <td>Yes</td>\n",
              "      <td>No</td>\n",
              "      <td>4</td>\n",
              "      <td>Yes</td>\n",
              "      <td>Yes</td>\n",
              "      <td>Fiber optic</td>\n",
              "      <td>No</td>\n",
              "      <td>...</td>\n",
              "      <td>No</td>\n",
              "      <td>No</td>\n",
              "      <td>No</td>\n",
              "      <td>No</td>\n",
              "      <td>Month-to-month</td>\n",
              "      <td>Yes</td>\n",
              "      <td>Mailed check</td>\n",
              "      <td>74.40</td>\n",
              "      <td>306.6</td>\n",
              "      <td>Yes</td>\n",
              "    </tr>\n",
              "    <tr>\n",
              "      <th>7042</th>\n",
              "      <td>3186-AJIEK</td>\n",
              "      <td>Male</td>\n",
              "      <td>0</td>\n",
              "      <td>No</td>\n",
              "      <td>No</td>\n",
              "      <td>66</td>\n",
              "      <td>Yes</td>\n",
              "      <td>No</td>\n",
              "      <td>Fiber optic</td>\n",
              "      <td>Yes</td>\n",
              "      <td>...</td>\n",
              "      <td>Yes</td>\n",
              "      <td>Yes</td>\n",
              "      <td>Yes</td>\n",
              "      <td>Yes</td>\n",
              "      <td>Two year</td>\n",
              "      <td>Yes</td>\n",
              "      <td>Bank transfer (automatic)</td>\n",
              "      <td>105.65</td>\n",
              "      <td>6844.5</td>\n",
              "      <td>No</td>\n",
              "    </tr>\n",
              "  </tbody>\n",
              "</table>\n",
              "<p>7043 rows × 21 columns</p>\n",
              "</div>\n",
              "      <button class=\"colab-df-convert\" onclick=\"convertToInteractive('df-79fb515b-236f-4d5a-a40d-4701f0c8d54b')\"\n",
              "              title=\"Convert this dataframe to an interactive table.\"\n",
              "              style=\"display:none;\">\n",
              "        \n",
              "  <svg xmlns=\"http://www.w3.org/2000/svg\" height=\"24px\"viewBox=\"0 0 24 24\"\n",
              "       width=\"24px\">\n",
              "    <path d=\"M0 0h24v24H0V0z\" fill=\"none\"/>\n",
              "    <path d=\"M18.56 5.44l.94 2.06.94-2.06 2.06-.94-2.06-.94-.94-2.06-.94 2.06-2.06.94zm-11 1L8.5 8.5l.94-2.06 2.06-.94-2.06-.94L8.5 2.5l-.94 2.06-2.06.94zm10 10l.94 2.06.94-2.06 2.06-.94-2.06-.94-.94-2.06-.94 2.06-2.06.94z\"/><path d=\"M17.41 7.96l-1.37-1.37c-.4-.4-.92-.59-1.43-.59-.52 0-1.04.2-1.43.59L10.3 9.45l-7.72 7.72c-.78.78-.78 2.05 0 2.83L4 21.41c.39.39.9.59 1.41.59.51 0 1.02-.2 1.41-.59l7.78-7.78 2.81-2.81c.8-.78.8-2.07 0-2.86zM5.41 20L4 18.59l7.72-7.72 1.47 1.35L5.41 20z\"/>\n",
              "  </svg>\n",
              "      </button>\n",
              "      \n",
              "  <style>\n",
              "    .colab-df-container {\n",
              "      display:flex;\n",
              "      flex-wrap:wrap;\n",
              "      gap: 12px;\n",
              "    }\n",
              "\n",
              "    .colab-df-convert {\n",
              "      background-color: #E8F0FE;\n",
              "      border: none;\n",
              "      border-radius: 50%;\n",
              "      cursor: pointer;\n",
              "      display: none;\n",
              "      fill: #1967D2;\n",
              "      height: 32px;\n",
              "      padding: 0 0 0 0;\n",
              "      width: 32px;\n",
              "    }\n",
              "\n",
              "    .colab-df-convert:hover {\n",
              "      background-color: #E2EBFA;\n",
              "      box-shadow: 0px 1px 2px rgba(60, 64, 67, 0.3), 0px 1px 3px 1px rgba(60, 64, 67, 0.15);\n",
              "      fill: #174EA6;\n",
              "    }\n",
              "\n",
              "    [theme=dark] .colab-df-convert {\n",
              "      background-color: #3B4455;\n",
              "      fill: #D2E3FC;\n",
              "    }\n",
              "\n",
              "    [theme=dark] .colab-df-convert:hover {\n",
              "      background-color: #434B5C;\n",
              "      box-shadow: 0px 1px 3px 1px rgba(0, 0, 0, 0.15);\n",
              "      filter: drop-shadow(0px 1px 2px rgba(0, 0, 0, 0.3));\n",
              "      fill: #FFFFFF;\n",
              "    }\n",
              "  </style>\n",
              "\n",
              "      <script>\n",
              "        const buttonEl =\n",
              "          document.querySelector('#df-79fb515b-236f-4d5a-a40d-4701f0c8d54b button.colab-df-convert');\n",
              "        buttonEl.style.display =\n",
              "          google.colab.kernel.accessAllowed ? 'block' : 'none';\n",
              "\n",
              "        async function convertToInteractive(key) {\n",
              "          const element = document.querySelector('#df-79fb515b-236f-4d5a-a40d-4701f0c8d54b');\n",
              "          const dataTable =\n",
              "            await google.colab.kernel.invokeFunction('convertToInteractive',\n",
              "                                                     [key], {});\n",
              "          if (!dataTable) return;\n",
              "\n",
              "          const docLinkHtml = 'Like what you see? Visit the ' +\n",
              "            '<a target=\"_blank\" href=https://colab.research.google.com/notebooks/data_table.ipynb>data table notebook</a>'\n",
              "            + ' to learn more about interactive tables.';\n",
              "          element.innerHTML = '';\n",
              "          dataTable['output_type'] = 'display_data';\n",
              "          await google.colab.output.renderOutput(dataTable, element);\n",
              "          const docLink = document.createElement('div');\n",
              "          docLink.innerHTML = docLinkHtml;\n",
              "          element.appendChild(docLink);\n",
              "        }\n",
              "      </script>\n",
              "    </div>\n",
              "  </div>\n",
              "  "
            ]
          },
          "metadata": {},
          "execution_count": 1
        }
      ]
    },
    {
      "cell_type": "markdown",
      "source": [
        ">*Analisando o tipo dos dados*"
      ],
      "metadata": {
        "id": "qo51BInjmzzq"
      }
    },
    {
      "cell_type": "code",
      "source": [
        "# Tipo de dados de cada atributo.\n",
        "dados.dtypes"
      ],
      "metadata": {
        "colab": {
          "base_uri": "https://localhost:8080/"
        },
        "id": "KMz8APuYqRZz",
        "outputId": "2937791c-58d8-490a-8f99-2a1722f9baf5"
      },
      "execution_count": 2,
      "outputs": [
        {
          "output_type": "execute_result",
          "data": {
            "text/plain": [
              "customerID           object\n",
              "gender               object\n",
              "SeniorCitizen         int64\n",
              "Partner              object\n",
              "Dependents           object\n",
              "tenure                int64\n",
              "PhoneService         object\n",
              "MultipleLines        object\n",
              "InternetService      object\n",
              "OnlineSecurity       object\n",
              "OnlineBackup         object\n",
              "DeviceProtection     object\n",
              "TechSupport          object\n",
              "StreamingTV          object\n",
              "StreamingMovies      object\n",
              "Contract             object\n",
              "PaperlessBilling     object\n",
              "PaymentMethod        object\n",
              "MonthlyCharges      float64\n",
              "TotalCharges         object\n",
              "Churn                object\n",
              "dtype: object"
            ]
          },
          "metadata": {},
          "execution_count": 2
        }
      ]
    },
    {
      "cell_type": "code",
      "source": [
        "# Tipo de dados dos atributos e existência de atributos ausentes.\n",
        "dados.info()"
      ],
      "metadata": {
        "colab": {
          "base_uri": "https://localhost:8080/"
        },
        "id": "TH8PK5TFtFBr",
        "outputId": "54552d28-5850-4606-9378-3477c1b0bab4"
      },
      "execution_count": 3,
      "outputs": [
        {
          "output_type": "stream",
          "name": "stdout",
          "text": [
            "<class 'pandas.core.frame.DataFrame'>\n",
            "RangeIndex: 7043 entries, 0 to 7042\n",
            "Data columns (total 21 columns):\n",
            " #   Column            Non-Null Count  Dtype  \n",
            "---  ------            --------------  -----  \n",
            " 0   customerID        7043 non-null   object \n",
            " 1   gender            7043 non-null   object \n",
            " 2   SeniorCitizen     7043 non-null   int64  \n",
            " 3   Partner           7043 non-null   object \n",
            " 4   Dependents        7043 non-null   object \n",
            " 5   tenure            7043 non-null   int64  \n",
            " 6   PhoneService      7043 non-null   object \n",
            " 7   MultipleLines     7043 non-null   object \n",
            " 8   InternetService   7043 non-null   object \n",
            " 9   OnlineSecurity    7043 non-null   object \n",
            " 10  OnlineBackup      7043 non-null   object \n",
            " 11  DeviceProtection  7043 non-null   object \n",
            " 12  TechSupport       7043 non-null   object \n",
            " 13  StreamingTV       7043 non-null   object \n",
            " 14  StreamingMovies   7043 non-null   object \n",
            " 15  Contract          7043 non-null   object \n",
            " 16  PaperlessBilling  7043 non-null   object \n",
            " 17  PaymentMethod     7043 non-null   object \n",
            " 18  MonthlyCharges    7043 non-null   float64\n",
            " 19  TotalCharges      7043 non-null   object \n",
            " 20  Churn             7043 non-null   object \n",
            "dtypes: float64(1), int64(2), object(18)\n",
            "memory usage: 1.1+ MB\n"
          ]
        }
      ]
    },
    {
      "cell_type": "markdown",
      "source": [
        "# **2.3 - Sumarizando os dados - Visualizando dos dados**\n",
        "\n",
        "A finalizdade desta visualização é fazer o cruzamento do atributo \"Churn\" com os demais atributos do dataset para extrair informações de quais atributos exercem maior influência na decisão do cliente abandonar a Telco."
      ],
      "metadata": {
        "id": "M8HLWdRn3t0k"
      }
    },
    {
      "cell_type": "code",
      "source": [
        "# Encntrando a taxa de rotatividade da Telco\n",
        "import matplotlib.pyplot as plt\n",
        "Churn = ['No', 'Yes']\n",
        "frequencia = [dados['Churn'].value_counts().sort_index()]\n",
        "fig = plt.figure(figsize=(6, 6))\n",
        "plt.pie(frequencia, labels=Churn, autopct='%.2f')\n",
        "plt.show()\n",
        "frequencia"
      ],
      "metadata": {
        "colab": {
          "base_uri": "https://localhost:8080/",
          "height": 466
        },
        "id": "QIu97W7RZl9Z",
        "outputId": "4bf305a3-a870-4914-836b-052a2579677f"
      },
      "execution_count": 4,
      "outputs": [
        {
          "output_type": "stream",
          "name": "stderr",
          "text": [
            "/usr/local/lib/python3.7/dist-packages/ipykernel_launcher.py:6: MatplotlibDeprecationWarning: Non-1D inputs to pie() are currently squeeze()d, but this behavior is deprecated since 3.1 and will be removed in 3.3; pass a 1D array instead.\n",
            "  \n"
          ]
        },
        {
          "output_type": "display_data",
          "data": {
            "text/plain": [
              "<Figure size 432x432 with 1 Axes>"
            ],
            "image/png": "[encoded data removed]"
          },
          "metadata": {}
        },
        {
          "output_type": "execute_result",
          "data": {
            "text/plain": [
              "[No     5174\n",
              " Yes    1869\n",
              " Name: Churn, dtype: int64]"
            ]
          },
          "metadata": {},
          "execution_count": 4
        }
      ]
    },
    {
      "cell_type": "markdown",
      "source": [
        "Análise:\n",
        "\n",
        "Os clientes que abandonaram a Telco no último mês perfazem 26,54%, sendo esta a taxa de rotatividade dos clientes da empresa."
      ],
      "metadata": {
        "id": "09TlzY5DpBLd"
      }
    },
    {
      "cell_type": "code",
      "source": [
        "# Analisando o atributo \"Churn\" com o atributo \"Gender\".\n",
        "import seaborn as sns\n",
        "sns.countplot(x='Churn', hue='gender', data=dados)"
      ],
      "metadata": {
        "id": "f7ygURJGqO7C",
        "colab": {
          "base_uri": "https://localhost:8080/",
          "height": 297
        },
        "outputId": "e69b6d06-2360-45ba-9419-7a75336f418b"
      },
      "execution_count": 5,
      "outputs": [
        {
          "output_type": "execute_result",
          "data": {
            "text/plain": [
              "<matplotlib.axes._subplots.AxesSubplot at 0x7ff80f623f50>"
            ]
          },
          "metadata": {},
          "execution_count": 5
        },
        {
          "output_type": "display_data",
          "data": {
            "text/plain": [
              "<Figure size 432x288 with 1 Axes>"
            ],
            "image/png": "[encoded data removed]"
          },
          "metadata": {
            "needs_background": "light"
          }
        }
      ]
    },
    {
      "cell_type": "markdown",
      "source": [
        "Análise:\n",
        "\n",
        "Percebe-se que não há predominância de sexo nos clientes que abandonam a Telco. A quantidade de abandonos no sexo masculino é a mesma que no sexo feminino."
      ],
      "metadata": {
        "id": "28oZh-uKsu9N"
      }
    },
    {
      "cell_type": "code",
      "source": [
        "# Analisando o atributo \"Churn\" com o atributo \"SeniorCitizen\".\n",
        "sns.countplot(x='Churn', hue='SeniorCitizen', data=dados)"
      ],
      "metadata": {
        "colab": {
          "base_uri": "https://localhost:8080/",
          "height": 297
        },
        "id": "HORaI-t6ua3z",
        "outputId": "84754c72-e40f-417f-dc1c-a1b13408411c"
      },
      "execution_count": 6,
      "outputs": [
        {
          "output_type": "execute_result",
          "data": {
            "text/plain": [
              "<matplotlib.axes._subplots.AxesSubplot at 0x7ff80ed5f450>"
            ]
          },
          "metadata": {},
          "execution_count": 6
        },
        {
          "output_type": "display_data",
          "data": {
            "text/plain": [
              "<Figure size 432x288 with 1 Axes>"
            ],
            "image/png": "[encoded data removed]"
          },
          "metadata": {
            "needs_background": "light"
          }
        }
      ]
    },
    {
      "cell_type": "markdown",
      "source": [
        "Análise:\n",
        "\n",
        "Há uma maior incidência de não idosos (valor 0) nos clientes que abandonaram a Telco. Portanto, o atributo \"SeniorCitizen\" (idoso) não contribui para o cliente abandonar a empresa."
      ],
      "metadata": {
        "id": "Vk3JV9b2u7EB"
      }
    },
    {
      "cell_type": "code",
      "source": [
        "# Analisando o atributo \"Churn\" com o atributo \"Partner\".\n",
        "sns.countplot(x='Churn', hue='Partner', data=dados)"
      ],
      "metadata": {
        "colab": {
          "base_uri": "https://localhost:8080/",
          "height": 297
        },
        "id": "BytI74E0wgg2",
        "outputId": "4a381039-f2f7-4cb6-ef88-41acc2eb99d9"
      },
      "execution_count": 7,
      "outputs": [
        {
          "output_type": "execute_result",
          "data": {
            "text/plain": [
              "<matplotlib.axes._subplots.AxesSubplot at 0x7ff80ecd90d0>"
            ]
          },
          "metadata": {},
          "execution_count": 7
        },
        {
          "output_type": "display_data",
          "data": {
            "text/plain": [
              "<Figure size 432x288 with 1 Axes>"
            ],
            "image/png": "[encoded data removed]"
          },
          "metadata": {
            "needs_background": "light"
          }
        }
      ]
    },
    {
      "cell_type": "markdown",
      "source": [
        "Análise:\n",
        "\n",
        "Considerando-se a união conjugal, nota-se que predominam os não casados (partner) entre os clientes que deixaram de utilizar os serviços da Telco."
      ],
      "metadata": {
        "id": "Pvn7UsvjxO4r"
      }
    },
    {
      "cell_type": "code",
      "source": [
        "# Analisando o atributo \"Churn\" com o atributo \"Dependents\".\n",
        "plot = sns.countplot(x='Churn', hue='Dependents', data=dados)\n",
        "\n",
        "for i in plot.patches:                                              #\n",
        "  plot.annotate(i.get_height(),                                     #  \n",
        "                (i.get_x() + i.get_width() / 2, i.get_height()),    #  Para colocar os rótulos nas barras\n",
        "                ha='center', va='baseline', fontsize=12,            #\n",
        "                color='black', xytext=(0, 1),                       #\n",
        "                textcoords='offset points') "
      ],
      "metadata": {
        "colab": {
          "base_uri": "https://localhost:8080/",
          "height": 280
        },
        "id": "bn-HqKFWzfUp",
        "outputId": "8bc0a5e0-f807-4d6c-9312-d2c917bf5c8d"
      },
      "execution_count": 8,
      "outputs": [
        {
          "output_type": "display_data",
          "data": {
            "text/plain": [
              "<Figure size 432x288 with 1 Axes>"
            ],
            "image/png": "[encoded data removed]"
          },
          "metadata": {
            "needs_background": "light"
          }
        }
      ]
    },
    {
      "cell_type": "markdown",
      "source": [
        "Análise:\n",
        "\n",
        "Nota-se que a maioria dos clientes que abandonam a Telco não possuem dependentes."
      ],
      "metadata": {
        "id": "VmXcXVzkz4ff"
      }
    },
    {
      "cell_type": "code",
      "source": [
        "# Analisando o atributo \"Churn\"com o atributo \"tenure\"\n",
        "plot = sns.histplot(x = 'tenure', hue = 'Churn', data = dados, multiple='dodge')    # Construção do gráfico.\n",
        "\n",
        "for i in plot.patches:                                              #\n",
        "  plot.annotate(i.get_height(),                                     #  \n",
        "                (i.get_x() + i.get_width() / 2, i.get_height()),    #  Para colocar os rótulos nas barras\n",
        "                ha='center', va='baseline', fontsize=9,             #\n",
        "                color='black', xytext=(0, 1),                       #\n",
        "                textcoords='offset points')                         #"
      ],
      "metadata": {
        "colab": {
          "base_uri": "https://localhost:8080/",
          "height": 279
        },
        "id": "6-FwGDbojikn",
        "outputId": "4f753bba-292d-4507-928e-16551c1fdcf3"
      },
      "execution_count": 9,
      "outputs": [
        {
          "output_type": "display_data",
          "data": {
            "text/plain": [
              "<Figure size 432x288 with 1 Axes>"
            ],
            "image/png": "[encoded data removed]"
          },
          "metadata": {
            "needs_background": "light"
          }
        }
      ]
    },
    {
      "cell_type": "markdown",
      "source": [
        "Análise:\n",
        "\n",
        "Uma grande quantidade de clientes (em torno de 680) abandonam a Telco nos primeiros 5 meses de ter utilizado os serviços da empresa. Talvez seja esse o tempo de experiência em que o cliente testa os serviços contratados. O atributo \"tenure\" é medido em meses."
      ],
      "metadata": {
        "id": "ga7SxOgDXehb"
      }
    },
    {
      "cell_type": "code",
      "source": [
        "# Analisando o atributo \"Churn\" com os aributos \"PhoneService\" e \"MultipleLines\".\n",
        "fig,axes = plt.subplots(nrows=1, ncols=2, figsize=(12, 4))\n",
        "\n",
        "plot = sns.countplot(x='Churn', hue = 'PhoneService',data=dados, ax=axes[0])    # Construção do gráfico.\n",
        "for i in plot.patches:                                              #\n",
        "  plot.annotate(i.get_height(),                                     #  \n",
        "                (i.get_x() + i.get_width() / 2, i.get_height()),    #  Para colocar os rótulos nas barras\n",
        "                ha='center', va='baseline', fontsize=12,            #\n",
        "                color='black', xytext=(0, 1),                       #\n",
        "                textcoords='offset points') \n",
        "\n",
        "plot = sns.countplot(x='Churn', hue = 'MultipleLines', data=dados, ax=axes[1])  # Construção do gráfico.\n",
        "for i in plot.patches:                                              #\n",
        "  plot.annotate(i.get_height(),                                     #  \n",
        "                (i.get_x() + i.get_width() / 2, i.get_height()),    #  Para colocar os rótulos nas barras\n",
        "                ha='center', va='baseline', fontsize=12,            #\n",
        "                color='black', xytext=(0, 1),                       #\n",
        "                textcoords='offset points') "
      ],
      "metadata": {
        "id": "KLIjZF9UzqAI",
        "colab": {
          "base_uri": "https://localhost:8080/",
          "height": 280
        },
        "outputId": "a1225e57-1aa7-498a-ad00-b79b6dcdfe04"
      },
      "execution_count": 10,
      "outputs": [
        {
          "output_type": "display_data",
          "data": {
            "text/plain": [
              "<Figure size 864x288 with 2 Axes>"
            ],
            "image/png": "[encoded data removed]"
          },
          "metadata": {
            "needs_background": "light"
          }
        }
      ]
    },
    {
      "cell_type": "markdown",
      "source": [
        "Análise:\n",
        "\n",
        "O primeiro gráfico mostra que a maioria dos clientes que abandonam a Telco possuem serviços telefônicos.\n",
        "\n",
        "O gráfico da direita indica que possuir múltiplas linhas telefônicas não interfere na atitude de abandono da empresa. "
      ],
      "metadata": {
        "id": "g2MEsc3VmMl5"
      }
    },
    {
      "cell_type": "code",
      "source": [
        "# Analisando o atributo \"Churn\" com o atributo \"InternetService\".\n",
        "sns.countplot(x='Churn', hue='InternetService', data=dados)"
      ],
      "metadata": {
        "colab": {
          "base_uri": "https://localhost:8080/",
          "height": 297
        },
        "id": "ZEUdXIQVpnSl",
        "outputId": "45c60511-f8d2-478f-877c-dcf3571acea9"
      },
      "execution_count": 11,
      "outputs": [
        {
          "output_type": "execute_result",
          "data": {
            "text/plain": [
              "<matplotlib.axes._subplots.AxesSubplot at 0x7ff80ea8a6d0>"
            ]
          },
          "metadata": {},
          "execution_count": 11
        },
        {
          "output_type": "display_data",
          "data": {
            "text/plain": [
              "<Figure size 432x288 with 1 Axes>"
            ],
            "image/png": "[encoded data removed]"
          },
          "metadata": {
            "needs_background": "light"
          }
        }
      ]
    },
    {
      "cell_type": "markdown",
      "source": [
        "Análise:\n",
        "\n",
        "A maioria dos clientes que abandonam a Telco possuem serviços de internet de fibra optica."
      ],
      "metadata": {
        "id": "VO6HnAN7qI0l"
      }
    },
    {
      "cell_type": "code",
      "source": [
        "# Analisando o atributo \"Churn\" com os atributos \"OnlieSecurity\", \"OnlineBackup\", \"DeviceProtection\" e \"TechSupport\".\n",
        "fig,axes = plt.subplots(nrows=2, ncols=2, figsize=(12, 8))\n",
        "axes = axes.flatten()    # Achatar a matriz a matriz de eixos para indexar \n",
        "sns.countplot(x='Churn', hue = 'OnlineSecurity',data=dados, ax=axes[0])\n",
        "sns.countplot(x='Churn', hue = 'OnlineBackup', data=dados, ax=axes[1])\n",
        "sns.countplot(x='Churn', hue = 'DeviceProtection', data=dados, ax=axes[2])\n",
        "sns.countplot(x='Churn', hue = 'TechSupport', data=dados, ax=axes[3])"
      ],
      "metadata": {
        "colab": {
          "base_uri": "https://localhost:8080/",
          "height": 519
        },
        "id": "3ZiJDRQRvsIA",
        "outputId": "2d352d78-6ad8-447d-9c5e-646ef85b0c87"
      },
      "execution_count": 12,
      "outputs": [
        {
          "output_type": "execute_result",
          "data": {
            "text/plain": [
              "<matplotlib.axes._subplots.AxesSubplot at 0x7ff80e8a3310>"
            ]
          },
          "metadata": {},
          "execution_count": 12
        },
        {
          "output_type": "display_data",
          "data": {
            "text/plain": [
              "<Figure size 864x576 with 4 Axes>"
            ],
            "image/png": "[encoded data removed]"
          },
          "metadata": {
            "needs_background": "light"
          }
        }
      ]
    },
    {
      "cell_type": "markdown",
      "source": [
        "Análise:\n",
        "\n",
        "Observando os gráficos percebe-se que os clientes que abandonam a Telco a maioria não possuem serviços de backup online; em menor quantidade possuem serviços de segurança online, dispositivos de proteção e suporte técnico."
      ],
      "metadata": {
        "id": "hz9ekoDF0TEl"
      }
    },
    {
      "cell_type": "code",
      "source": [
        "# Analisando o atributo \"Churn\" com os atributos \"StreamingTV\" e \"StreamingMovies\".\n",
        "fig,axes = plt.subplots(nrows=1, ncols=2, figsize=(12, 6))\n",
        "axes = axes.flatten()\n",
        "sns.countplot(x='Churn', hue = 'StreamingTV',data=dados, ax=axes[0])\n",
        "sns.countplot(x='Churn', hue = 'StreamingMovies', data=dados, ax=axes[1])"
      ],
      "metadata": {
        "colab": {
          "base_uri": "https://localhost:8080/",
          "height": 408
        },
        "id": "s6JOGsTK6GeS",
        "outputId": "319530de-9f40-4794-98bd-e793df41848a"
      },
      "execution_count": 13,
      "outputs": [
        {
          "output_type": "execute_result",
          "data": {
            "text/plain": [
              "<matplotlib.axes._subplots.AxesSubplot at 0x7ff80e70da90>"
            ]
          },
          "metadata": {},
          "execution_count": 13
        },
        {
          "output_type": "display_data",
          "data": {
            "text/plain": [
              "<Figure size 864x432 with 2 Axes>"
            ],
            "image/png": "[encoded data removed]"
          },
          "metadata": {
            "needs_background": "light"
          }
        }
      ]
    },
    {
      "cell_type": "markdown",
      "source": [
        "Análise:\n",
        "\n",
        "Observa-se nos gráficos que a quantidade dos clientes que abandonam a Telco e não possuem serviço de streaming de TV e de Filmes é maior do que aqueles que possuem esses serviços."
      ],
      "metadata": {
        "id": "1vVR-m_87SYh"
      }
    },
    {
      "cell_type": "code",
      "source": [
        "# Analisando o atributo \"Churn\" com os atributos \"Contract\", \"PapaerlessBilling\" e \"PaymentMethod\".\n",
        "fig,axes = plt.subplots(nrows=1, ncols=3, figsize=(14, 6))\n",
        "axes = axes.flatten()  # achatar a matriz a matriz de eixos para indexar\n",
        "sns.countplot(x='Churn', hue = 'Contract',data=dados, ax=axes[0])\n",
        "sns.countplot(x='Churn', hue = 'PaperlessBilling', data=dados, ax=axes[1])\n",
        "sns.countplot(x='Churn', hue = 'PaymentMethod', data=dados, ax=axes[2])"
      ],
      "metadata": {
        "colab": {
          "base_uri": "https://localhost:8080/",
          "height": 406
        },
        "id": "3ySfEJgL9xvT",
        "outputId": "875f83c7-d14a-4fe5-8c1e-fe7684c8ac2f"
      },
      "execution_count": 14,
      "outputs": [
        {
          "output_type": "execute_result",
          "data": {
            "text/plain": [
              "<matplotlib.axes._subplots.AxesSubplot at 0x7ff80e981e10>"
            ]
          },
          "metadata": {},
          "execution_count": 14
        },
        {
          "output_type": "display_data",
          "data": {
            "text/plain": [
              "<Figure size 1008x432 with 3 Axes>"
            ],
            "image/png": "[encoded data removed]"
          },
          "metadata": {
            "needs_background": "light"
          }
        }
      ]
    },
    {
      "cell_type": "markdown",
      "source": [
        "Análise:\n",
        "\n",
        "Em relação ao tipo de contrato e as respectivas formas de pagamento pelos serviços prestados nota-se que o prazo do contrato dos clientes que abandonam a Telco é do tipo mês a mês. Pouquíssemos deles possuem um prazo de contrato de duração de um ou dois anos. Uma grande quantidade dos clientes que abandonam realizam o pagamento da forma \"sem papel\" (paperless billing), utilizando o método eletrônico."
      ],
      "metadata": {
        "id": "S_HlAnsj-A9h"
      }
    },
    {
      "cell_type": "code",
      "source": [
        "# Avaliando o atributo \"Churn\" com o atributo \"MonthlyCharges\".\n",
        "sns.boxplot(x='Churn', y='MonthlyCharges', data=dados)"
      ],
      "metadata": {
        "colab": {
          "base_uri": "https://localhost:8080/",
          "height": 297
        },
        "id": "CVWgB2P4vrqL",
        "outputId": "f82a53f6-8c53-427b-ae01-c67b790da5a5"
      },
      "execution_count": 15,
      "outputs": [
        {
          "output_type": "execute_result",
          "data": {
            "text/plain": [
              "<matplotlib.axes._subplots.AxesSubplot at 0x7ff80ec26610>"
            ]
          },
          "metadata": {},
          "execution_count": 15
        },
        {
          "output_type": "display_data",
          "data": {
            "text/plain": [
              "<Figure size 432x288 with 1 Axes>"
            ],
            "image/png": "[encoded data removed]"
          },
          "metadata": {
            "needs_background": "light"
          }
        }
      ]
    },
    {
      "cell_type": "markdown",
      "source": [
        "Análise:\n",
        "\n",
        "Percebe-se que os clientes que abandonam a Telco pagam mensalmente pelos serviços contratados um valor mediano próximo de $80.00, sendo que 25% dos clientes que abandonam pagam mensalmente até 60.00 dólares e 25% dos que abandonam a empresa pagam 90.00 dólares ou mais."
      ],
      "metadata": {
        "id": "W20QP3MAwiMn"
      }
    },
    {
      "cell_type": "code",
      "source": [
        "# Avaliando o atributo \"Churn\" com o atributo \"TotalCharges\".\n",
        "# Transformando o atributo \"TotalCharges\" (object) em atributo numérico.\n",
        "  # Utilizando a transformação com a função \"astype()\" não deu certo. Deve haver neste atributo algum valor\n",
        "  # do tipo \"-\" que é considerado como string não trnasformável em número. Por isso foi usado \"erros=coerce\"\n",
        "  # no sentido de coagir, reprimir.\n",
        "dados['TotalCharges'] = pd.to_numeric(dados['TotalCharges'], errors='coerce')\n",
        "\n",
        "# Construindo o gráfico \"boxplot\".\n",
        "sns.boxplot(x='Churn', y='TotalCharges', data=dados)"
      ],
      "metadata": {
        "colab": {
          "base_uri": "https://localhost:8080/",
          "height": 297
        },
        "id": "_sfRps9Cy26E",
        "outputId": "a7c681e3-7332-480f-e67b-b6c5ab1579ea"
      },
      "execution_count": 16,
      "outputs": [
        {
          "output_type": "execute_result",
          "data": {
            "text/plain": [
              "<matplotlib.axes._subplots.AxesSubplot at 0x7ff81b617110>"
            ]
          },
          "metadata": {},
          "execution_count": 16
        },
        {
          "output_type": "display_data",
          "data": {
            "text/plain": [
              "<Figure size 432x288 with 1 Axes>"
            ],
            "image/png": "[encoded data removed]"
          },
          "metadata": {
            "needs_background": "light"
          }
        }
      ]
    },
    {
      "cell_type": "markdown",
      "source": [
        "Análise:\n",
        "\n",
        "Observa-se que o valor total cobrado dos clientes que abandonam a Telco tem um valor mediano de aproximadamente $500.00."
      ],
      "metadata": {
        "id": "W75QPUibzFor"
      }
    },
    {
      "cell_type": "markdown",
      "source": [
        "# **2.4 - Sumarizando os dados - Análise descritiva**\n",
        "\n",
        "A estatística descritiva fornece informações sobre os dados (estatística descreitiva => informações). A inferência estatística fornece conhecimento sobre os dados (inferência => conhecimento)."
      ],
      "metadata": {
        "id": "c7lhuqrVuyhG"
      }
    },
    {
      "cell_type": "code",
      "source": [
        "# Quantidade de clientes que deixaram (churn ou rotatividade) a Telco.\n",
        "# Calculando a distribuição de frequência do atributo \"Churn\"\n",
        "dados['Churn'].value_counts().sort_index()"
      ],
      "metadata": {
        "id": "8twLPhR4sal1",
        "colab": {
          "base_uri": "https://localhost:8080/"
        },
        "outputId": "0c2848f9-5439-443f-f054-9027db92aa46"
      },
      "execution_count": 17,
      "outputs": [
        {
          "output_type": "execute_result",
          "data": {
            "text/plain": [
              "No     5174\n",
              "Yes    1869\n",
              "Name: Churn, dtype: int64"
            ]
          },
          "metadata": {},
          "execution_count": 17
        }
      ]
    },
    {
      "cell_type": "code",
      "source": [
        "# Calculando a distribuição de frequência do atributo \"Churn\"em porcentagem.\n",
        "dados['Churn'].value_counts().sort_index()*100/sum(dados[\"Churn\"].value_counts().sort_index())"
      ],
      "metadata": {
        "id": "YtzwsWqcwV5m",
        "colab": {
          "base_uri": "https://localhost:8080/"
        },
        "outputId": "d0855121-31e3-45dc-901d-35f2114837c2"
      },
      "execution_count": 18,
      "outputs": [
        {
          "output_type": "execute_result",
          "data": {
            "text/plain": [
              "No     73.463013\n",
              "Yes    26.536987\n",
              "Name: Churn, dtype: float64"
            ]
          },
          "metadata": {},
          "execution_count": 18
        }
      ]
    },
    {
      "cell_type": "markdown",
      "source": [
        "Análise:\n",
        "\n",
        "Pelas informações acima, pode-se concluir que 26,54% dos clientes da Telco abandonam a empresa.\n",
        "\n",
        "Conclusão: a taxa de rotatividade dos clientes da Telco é de 26,54%."
      ],
      "metadata": {
        "id": "nfu_2hvExawp"
      }
    },
    {
      "cell_type": "code",
      "source": [
        "# Calculando as estatísticas descritivas dos atributos \"MonthlyCharges\" e \"TotalCharges\".\n",
        "# Estas estatístias correspondem tanto aos clientes que abandonaram como aqueles que não abandonaram a Telco.\n",
        "dados[['MonthlyCharges', 'TotalCharges']].describe()"
      ],
      "metadata": {
        "colab": {
          "base_uri": "https://localhost:8080/",
          "height": 300
        },
        "id": "oIN8tf-7MZBJ",
        "outputId": "33ebf4cf-ee14-4e55-de94-36bde8b7f73e"
      },
      "execution_count": 19,
      "outputs": [
        {
          "output_type": "execute_result",
          "data": {
            "text/plain": [
              "       MonthlyCharges  TotalCharges\n",
              "count     7043.000000   7032.000000\n",
              "mean        64.761692   2283.300441\n",
              "std         30.090047   2266.771362\n",
              "min         18.250000     18.800000\n",
              "25%         35.500000    401.450000\n",
              "50%         70.350000   1397.475000\n",
              "75%         89.850000   3794.737500\n",
              "max        118.750000   8684.800000"
            ],
            "text/html": [
              "\n",
              "  <div id=\"df-0aba22cf-2994-43a4-99bc-8b235ed1b3eb\">\n",
              "    <div class=\"colab-df-container\">\n",
              "      <div>\n",
              "<style scoped>\n",
              "    .dataframe tbody tr th:only-of-type {\n",
              "        vertical-align: middle;\n",
              "    }\n",
              "\n",
              "    .dataframe tbody tr th {\n",
              "        vertical-align: top;\n",
              "    }\n",
              "\n",
              "    .dataframe thead th {\n",
              "        text-align: right;\n",
              "    }\n",
              "</style>\n",
              "<table border=\"1\" class=\"dataframe\">\n",
              "  <thead>\n",
              "    <tr style=\"text-align: right;\">\n",
              "      <th></th>\n",
              "      <th>MonthlyCharges</th>\n",
              "      <th>TotalCharges</th>\n",
              "    </tr>\n",
              "  </thead>\n",
              "  <tbody>\n",
              "    <tr>\n",
              "      <th>count</th>\n",
              "      <td>7043.000000</td>\n",
              "      <td>7032.000000</td>\n",
              "    </tr>\n",
              "    <tr>\n",
              "      <th>mean</th>\n",
              "      <td>64.761692</td>\n",
              "      <td>2283.300441</td>\n",
              "    </tr>\n",
              "    <tr>\n",
              "      <th>std</th>\n",
              "      <td>30.090047</td>\n",
              "      <td>2266.771362</td>\n",
              "    </tr>\n",
              "    <tr>\n",
              "      <th>min</th>\n",
              "      <td>18.250000</td>\n",
              "      <td>18.800000</td>\n",
              "    </tr>\n",
              "    <tr>\n",
              "      <th>25%</th>\n",
              "      <td>35.500000</td>\n",
              "      <td>401.450000</td>\n",
              "    </tr>\n",
              "    <tr>\n",
              "      <th>50%</th>\n",
              "      <td>70.350000</td>\n",
              "      <td>1397.475000</td>\n",
              "    </tr>\n",
              "    <tr>\n",
              "      <th>75%</th>\n",
              "      <td>89.850000</td>\n",
              "      <td>3794.737500</td>\n",
              "    </tr>\n",
              "    <tr>\n",
              "      <th>max</th>\n",
              "      <td>118.750000</td>\n",
              "      <td>8684.800000</td>\n",
              "    </tr>\n",
              "  </tbody>\n",
              "</table>\n",
              "</div>\n",
              "      <button class=\"colab-df-convert\" onclick=\"convertToInteractive('df-0aba22cf-2994-43a4-99bc-8b235ed1b3eb')\"\n",
              "              title=\"Convert this dataframe to an interactive table.\"\n",
              "              style=\"display:none;\">\n",
              "        \n",
              "  <svg xmlns=\"http://www.w3.org/2000/svg\" height=\"24px\"viewBox=\"0 0 24 24\"\n",
              "       width=\"24px\">\n",
              "    <path d=\"M0 0h24v24H0V0z\" fill=\"none\"/>\n",
              "    <path d=\"M18.56 5.44l.94 2.06.94-2.06 2.06-.94-2.06-.94-.94-2.06-.94 2.06-2.06.94zm-11 1L8.5 8.5l.94-2.06 2.06-.94-2.06-.94L8.5 2.5l-.94 2.06-2.06.94zm10 10l.94 2.06.94-2.06 2.06-.94-2.06-.94-.94-2.06-.94 2.06-2.06.94z\"/><path d=\"M17.41 7.96l-1.37-1.37c-.4-.4-.92-.59-1.43-.59-.52 0-1.04.2-1.43.59L10.3 9.45l-7.72 7.72c-.78.78-.78 2.05 0 2.83L4 21.41c.39.39.9.59 1.41.59.51 0 1.02-.2 1.41-.59l7.78-7.78 2.81-2.81c.8-.78.8-2.07 0-2.86zM5.41 20L4 18.59l7.72-7.72 1.47 1.35L5.41 20z\"/>\n",
              "  </svg>\n",
              "      </button>\n",
              "      \n",
              "  <style>\n",
              "    .colab-df-container {\n",
              "      display:flex;\n",
              "      flex-wrap:wrap;\n",
              "      gap: 12px;\n",
              "    }\n",
              "\n",
              "    .colab-df-convert {\n",
              "      background-color: #E8F0FE;\n",
              "      border: none;\n",
              "      border-radius: 50%;\n",
              "      cursor: pointer;\n",
              "      display: none;\n",
              "      fill: #1967D2;\n",
              "      height: 32px;\n",
              "      padding: 0 0 0 0;\n",
              "      width: 32px;\n",
              "    }\n",
              "\n",
              "    .colab-df-convert:hover {\n",
              "      background-color: #E2EBFA;\n",
              "      box-shadow: 0px 1px 2px rgba(60, 64, 67, 0.3), 0px 1px 3px 1px rgba(60, 64, 67, 0.15);\n",
              "      fill: #174EA6;\n",
              "    }\n",
              "\n",
              "    [theme=dark] .colab-df-convert {\n",
              "      background-color: #3B4455;\n",
              "      fill: #D2E3FC;\n",
              "    }\n",
              "\n",
              "    [theme=dark] .colab-df-convert:hover {\n",
              "      background-color: #434B5C;\n",
              "      box-shadow: 0px 1px 3px 1px rgba(0, 0, 0, 0.15);\n",
              "      filter: drop-shadow(0px 1px 2px rgba(0, 0, 0, 0.3));\n",
              "      fill: #FFFFFF;\n",
              "    }\n",
              "  </style>\n",
              "\n",
              "      <script>\n",
              "        const buttonEl =\n",
              "          document.querySelector('#df-0aba22cf-2994-43a4-99bc-8b235ed1b3eb button.colab-df-convert');\n",
              "        buttonEl.style.display =\n",
              "          google.colab.kernel.accessAllowed ? 'block' : 'none';\n",
              "\n",
              "        async function convertToInteractive(key) {\n",
              "          const element = document.querySelector('#df-0aba22cf-2994-43a4-99bc-8b235ed1b3eb');\n",
              "          const dataTable =\n",
              "            await google.colab.kernel.invokeFunction('convertToInteractive',\n",
              "                                                     [key], {});\n",
              "          if (!dataTable) return;\n",
              "\n",
              "          const docLinkHtml = 'Like what you see? Visit the ' +\n",
              "            '<a target=\"_blank\" href=https://colab.research.google.com/notebooks/data_table.ipynb>data table notebook</a>'\n",
              "            + ' to learn more about interactive tables.';\n",
              "          element.innerHTML = '';\n",
              "          dataTable['output_type'] = 'display_data';\n",
              "          await google.colab.output.renderOutput(dataTable, element);\n",
              "          const docLink = document.createElement('div');\n",
              "          docLink.innerHTML = docLinkHtml;\n",
              "          element.appendChild(docLink);\n",
              "        }\n",
              "      </script>\n",
              "    </div>\n",
              "  </div>\n",
              "  "
            ]
          },
          "metadata": {},
          "execution_count": 19
        }
      ]
    },
    {
      "cell_type": "markdown",
      "source": [
        "Análise:\n",
        "\n",
        "Considerendo todos os clientes da Telco tanto os que abandonaram como aqueles que não abandonaram a empresa, realizavam pagamentos mensais em média de 64,76 dólares. Estes mesmos clientes contribuiam, durante todo o período que ficavam na empres, com o valor médio de 2.283,30 dólares.\n",
        "\n",
        "Estes mesmos clientes 25% deles pagavam para a Telco até 35,50 dólares por mês e, 25% deles pagavam para a Telco um valor de pelo menos 89,85 dólares mensais."
      ],
      "metadata": {
        "id": "9aUaz3YsrAH9"
      }
    },
    {
      "cell_type": "code",
      "source": [
        "# Agrupando o atributo \"Churn\" e calculando as estatíticas descritivas do atributo \"MonthlyCharges\" e do\n",
        "# atributo \"TotalCharges\"no grupo.\n",
        "dados.groupby('Churn')['MonthlyCharges', 'TotalCharges'].describe()"
      ],
      "metadata": {
        "id": "kxYTS1_YvCwB",
        "colab": {
          "base_uri": "https://localhost:8080/",
          "height": 231
        },
        "outputId": "aa43946c-e42c-4de5-e708-86f1da9a9738"
      },
      "execution_count": 20,
      "outputs": [
        {
          "output_type": "stream",
          "name": "stderr",
          "text": [
            "/usr/local/lib/python3.7/dist-packages/ipykernel_launcher.py:3: FutureWarning: Indexing with multiple keys (implicitly converted to a tuple of keys) will be deprecated, use a list instead.\n",
            "  This is separate from the ipykernel package so we can avoid doing imports until\n"
          ]
        },
        {
          "output_type": "execute_result",
          "data": {
            "text/plain": [
              "      MonthlyCharges                                                    \\\n",
              "               count       mean        std    min    25%     50%   75%   \n",
              "Churn                                                                    \n",
              "No            5174.0  61.265124  31.092648  18.25  25.10  64.425  88.4   \n",
              "Yes           1869.0  74.441332  24.666053  18.85  56.15  79.650  94.2   \n",
              "\n",
              "              TotalCharges                                                     \\\n",
              "          max        count         mean          std    min      25%      50%   \n",
              "Churn                                                                           \n",
              "No     118.75       5163.0  2555.344141  2329.456984  18.80  577.825  1683.60   \n",
              "Yes    118.35       1869.0  1531.796094  1890.822994  18.85  134.500   703.55   \n",
              "\n",
              "                          \n",
              "            75%      max  \n",
              "Churn                     \n",
              "No     4264.125  8672.45  \n",
              "Yes    2331.300  8684.80  "
            ],
            "text/html": [
              "\n",
              "  <div id=\"df-c36c7f57-7b4b-469a-b62e-269263f93738\">\n",
              "    <div class=\"colab-df-container\">\n",
              "      <div>\n",
              "<style scoped>\n",
              "    .dataframe tbody tr th:only-of-type {\n",
              "        vertical-align: middle;\n",
              "    }\n",
              "\n",
              "    .dataframe tbody tr th {\n",
              "        vertical-align: top;\n",
              "    }\n",
              "\n",
              "    .dataframe thead tr th {\n",
              "        text-align: left;\n",
              "    }\n",
              "\n",
              "    .dataframe thead tr:last-of-type th {\n",
              "        text-align: right;\n",
              "    }\n",
              "</style>\n",
              "<table border=\"1\" class=\"dataframe\">\n",
              "  <thead>\n",
              "    <tr>\n",
              "      <th></th>\n",
              "      <th colspan=\"8\" halign=\"left\">MonthlyCharges</th>\n",
              "      <th colspan=\"8\" halign=\"left\">TotalCharges</th>\n",
              "    </tr>\n",
              "    <tr>\n",
              "      <th></th>\n",
              "      <th>count</th>\n",
              "      <th>mean</th>\n",
              "      <th>std</th>\n",
              "      <th>min</th>\n",
              "      <th>25%</th>\n",
              "      <th>50%</th>\n",
              "      <th>75%</th>\n",
              "      <th>max</th>\n",
              "      <th>count</th>\n",
              "      <th>mean</th>\n",
              "      <th>std</th>\n",
              "      <th>min</th>\n",
              "      <th>25%</th>\n",
              "      <th>50%</th>\n",
              "      <th>75%</th>\n",
              "      <th>max</th>\n",
              "    </tr>\n",
              "    <tr>\n",
              "      <th>Churn</th>\n",
              "      <th></th>\n",
              "      <th></th>\n",
              "      <th></th>\n",
              "      <th></th>\n",
              "      <th></th>\n",
              "      <th></th>\n",
              "      <th></th>\n",
              "      <th></th>\n",
              "      <th></th>\n",
              "      <th></th>\n",
              "      <th></th>\n",
              "      <th></th>\n",
              "      <th></th>\n",
              "      <th></th>\n",
              "      <th></th>\n",
              "      <th></th>\n",
              "    </tr>\n",
              "  </thead>\n",
              "  <tbody>\n",
              "    <tr>\n",
              "      <th>No</th>\n",
              "      <td>5174.0</td>\n",
              "      <td>61.265124</td>\n",
              "      <td>31.092648</td>\n",
              "      <td>18.25</td>\n",
              "      <td>25.10</td>\n",
              "      <td>64.425</td>\n",
              "      <td>88.4</td>\n",
              "      <td>118.75</td>\n",
              "      <td>5163.0</td>\n",
              "      <td>2555.344141</td>\n",
              "      <td>2329.456984</td>\n",
              "      <td>18.80</td>\n",
              "      <td>577.825</td>\n",
              "      <td>1683.60</td>\n",
              "      <td>4264.125</td>\n",
              "      <td>8672.45</td>\n",
              "    </tr>\n",
              "    <tr>\n",
              "      <th>Yes</th>\n",
              "      <td>1869.0</td>\n",
              "      <td>74.441332</td>\n",
              "      <td>24.666053</td>\n",
              "      <td>18.85</td>\n",
              "      <td>56.15</td>\n",
              "      <td>79.650</td>\n",
              "      <td>94.2</td>\n",
              "      <td>118.35</td>\n",
              "      <td>1869.0</td>\n",
              "      <td>1531.796094</td>\n",
              "      <td>1890.822994</td>\n",
              "      <td>18.85</td>\n",
              "      <td>134.500</td>\n",
              "      <td>703.55</td>\n",
              "      <td>2331.300</td>\n",
              "      <td>8684.80</td>\n",
              "    </tr>\n",
              "  </tbody>\n",
              "</table>\n",
              "</div>\n",
              "      <button class=\"colab-df-convert\" onclick=\"convertToInteractive('df-c36c7f57-7b4b-469a-b62e-269263f93738')\"\n",
              "              title=\"Convert this dataframe to an interactive table.\"\n",
              "              style=\"display:none;\">\n",
              "        \n",
              "  <svg xmlns=\"http://www.w3.org/2000/svg\" height=\"24px\"viewBox=\"0 0 24 24\"\n",
              "       width=\"24px\">\n",
              "    <path d=\"M0 0h24v24H0V0z\" fill=\"none\"/>\n",
              "    <path d=\"M18.56 5.44l.94 2.06.94-2.06 2.06-.94-2.06-.94-.94-2.06-.94 2.06-2.06.94zm-11 1L8.5 8.5l.94-2.06 2.06-.94-2.06-.94L8.5 2.5l-.94 2.06-2.06.94zm10 10l.94 2.06.94-2.06 2.06-.94-2.06-.94-.94-2.06-.94 2.06-2.06.94z\"/><path d=\"M17.41 7.96l-1.37-1.37c-.4-.4-.92-.59-1.43-.59-.52 0-1.04.2-1.43.59L10.3 9.45l-7.72 7.72c-.78.78-.78 2.05 0 2.83L4 21.41c.39.39.9.59 1.41.59.51 0 1.02-.2 1.41-.59l7.78-7.78 2.81-2.81c.8-.78.8-2.07 0-2.86zM5.41 20L4 18.59l7.72-7.72 1.47 1.35L5.41 20z\"/>\n",
              "  </svg>\n",
              "      </button>\n",
              "      \n",
              "  <style>\n",
              "    .colab-df-container {\n",
              "      display:flex;\n",
              "      flex-wrap:wrap;\n",
              "      gap: 12px;\n",
              "    }\n",
              "\n",
              "    .colab-df-convert {\n",
              "      background-color: #E8F0FE;\n",
              "      border: none;\n",
              "      border-radius: 50%;\n",
              "      cursor: pointer;\n",
              "      display: none;\n",
              "      fill: #1967D2;\n",
              "      height: 32px;\n",
              "      padding: 0 0 0 0;\n",
              "      width: 32px;\n",
              "    }\n",
              "\n",
              "    .colab-df-convert:hover {\n",
              "      background-color: #E2EBFA;\n",
              "      box-shadow: 0px 1px 2px rgba(60, 64, 67, 0.3), 0px 1px 3px 1px rgba(60, 64, 67, 0.15);\n",
              "      fill: #174EA6;\n",
              "    }\n",
              "\n",
              "    [theme=dark] .colab-df-convert {\n",
              "      background-color: #3B4455;\n",
              "      fill: #D2E3FC;\n",
              "    }\n",
              "\n",
              "    [theme=dark] .colab-df-convert:hover {\n",
              "      background-color: #434B5C;\n",
              "      box-shadow: 0px 1px 3px 1px rgba(0, 0, 0, 0.15);\n",
              "      filter: drop-shadow(0px 1px 2px rgba(0, 0, 0, 0.3));\n",
              "      fill: #FFFFFF;\n",
              "    }\n",
              "  </style>\n",
              "\n",
              "      <script>\n",
              "        const buttonEl =\n",
              "          document.querySelector('#df-c36c7f57-7b4b-469a-b62e-269263f93738 button.colab-df-convert');\n",
              "        buttonEl.style.display =\n",
              "          google.colab.kernel.accessAllowed ? 'block' : 'none';\n",
              "\n",
              "        async function convertToInteractive(key) {\n",
              "          const element = document.querySelector('#df-c36c7f57-7b4b-469a-b62e-269263f93738');\n",
              "          const dataTable =\n",
              "            await google.colab.kernel.invokeFunction('convertToInteractive',\n",
              "                                                     [key], {});\n",
              "          if (!dataTable) return;\n",
              "\n",
              "          const docLinkHtml = 'Like what you see? Visit the ' +\n",
              "            '<a target=\"_blank\" href=https://colab.research.google.com/notebooks/data_table.ipynb>data table notebook</a>'\n",
              "            + ' to learn more about interactive tables.';\n",
              "          element.innerHTML = '';\n",
              "          dataTable['output_type'] = 'display_data';\n",
              "          await google.colab.output.renderOutput(dataTable, element);\n",
              "          const docLink = document.createElement('div');\n",
              "          docLink.innerHTML = docLinkHtml;\n",
              "          element.appendChild(docLink);\n",
              "        }\n",
              "      </script>\n",
              "    </div>\n",
              "  </div>\n",
              "  "
            ]
          },
          "metadata": {},
          "execution_count": 20
        }
      ]
    },
    {
      "cell_type": "markdown",
      "source": [
        "Análise:\n",
        "\n",
        "Estas estatísticas descritivas, agora agrupadas pelos clientes que abandonaram ou não a empresa, confirmam as análises realizadas por meio do gráfico boxplot. Nota-se, ainda, que cada um que abandonou a empresa pagava mensalmente o valor médio de 74,44 dólares e tinha um pagamento médio total de 1.531,79, durante a sua permanência na empresa.\n",
        "\n",
        "Observação: se um cliente traz 1.531,79 dólares, durante a sua vida na empresa, a Telco não deve gastar mais que 1.531,79 dóleres para retê-lo."
      ],
      "metadata": {
        "id": "_I_H-JeYE9VX"
      }
    },
    {
      "cell_type": "code",
      "source": [
        "# Agrupando o atributo \"Churn\" e calculando as estatíticas descritivas do atributo \"tenure\" no grupo.\n",
        "dados.groupby('Churn')['tenure'].describe()"
      ],
      "metadata": {
        "id": "CCK0GSbCVRsd",
        "colab": {
          "base_uri": "https://localhost:8080/",
          "height": 143
        },
        "outputId": "2b92128f-0e4a-4b4e-8116-86fee5d1bf9a"
      },
      "execution_count": 21,
      "outputs": [
        {
          "output_type": "execute_result",
          "data": {
            "text/plain": [
              "        count       mean        std  min   25%   50%   75%   max\n",
              "Churn                                                           \n",
              "No     5174.0  37.569965  24.113777  0.0  15.0  38.0  61.0  72.0\n",
              "Yes    1869.0  17.979133  19.531123  1.0   2.0  10.0  29.0  72.0"
            ],
            "text/html": [
              "\n",
              "  <div id=\"df-c04dc687-e22e-4f08-9cba-87ccdd3d3f74\">\n",
              "    <div class=\"colab-df-container\">\n",
              "      <div>\n",
              "<style scoped>\n",
              "    .dataframe tbody tr th:only-of-type {\n",
              "        vertical-align: middle;\n",
              "    }\n",
              "\n",
              "    .dataframe tbody tr th {\n",
              "        vertical-align: top;\n",
              "    }\n",
              "\n",
              "    .dataframe thead th {\n",
              "        text-align: right;\n",
              "    }\n",
              "</style>\n",
              "<table border=\"1\" class=\"dataframe\">\n",
              "  <thead>\n",
              "    <tr style=\"text-align: right;\">\n",
              "      <th></th>\n",
              "      <th>count</th>\n",
              "      <th>mean</th>\n",
              "      <th>std</th>\n",
              "      <th>min</th>\n",
              "      <th>25%</th>\n",
              "      <th>50%</th>\n",
              "      <th>75%</th>\n",
              "      <th>max</th>\n",
              "    </tr>\n",
              "    <tr>\n",
              "      <th>Churn</th>\n",
              "      <th></th>\n",
              "      <th></th>\n",
              "      <th></th>\n",
              "      <th></th>\n",
              "      <th></th>\n",
              "      <th></th>\n",
              "      <th></th>\n",
              "      <th></th>\n",
              "    </tr>\n",
              "  </thead>\n",
              "  <tbody>\n",
              "    <tr>\n",
              "      <th>No</th>\n",
              "      <td>5174.0</td>\n",
              "      <td>37.569965</td>\n",
              "      <td>24.113777</td>\n",
              "      <td>0.0</td>\n",
              "      <td>15.0</td>\n",
              "      <td>38.0</td>\n",
              "      <td>61.0</td>\n",
              "      <td>72.0</td>\n",
              "    </tr>\n",
              "    <tr>\n",
              "      <th>Yes</th>\n",
              "      <td>1869.0</td>\n",
              "      <td>17.979133</td>\n",
              "      <td>19.531123</td>\n",
              "      <td>1.0</td>\n",
              "      <td>2.0</td>\n",
              "      <td>10.0</td>\n",
              "      <td>29.0</td>\n",
              "      <td>72.0</td>\n",
              "    </tr>\n",
              "  </tbody>\n",
              "</table>\n",
              "</div>\n",
              "      <button class=\"colab-df-convert\" onclick=\"convertToInteractive('df-c04dc687-e22e-4f08-9cba-87ccdd3d3f74')\"\n",
              "              title=\"Convert this dataframe to an interactive table.\"\n",
              "              style=\"display:none;\">\n",
              "        \n",
              "  <svg xmlns=\"http://www.w3.org/2000/svg\" height=\"24px\"viewBox=\"0 0 24 24\"\n",
              "       width=\"24px\">\n",
              "    <path d=\"M0 0h24v24H0V0z\" fill=\"none\"/>\n",
              "    <path d=\"M18.56 5.44l.94 2.06.94-2.06 2.06-.94-2.06-.94-.94-2.06-.94 2.06-2.06.94zm-11 1L8.5 8.5l.94-2.06 2.06-.94-2.06-.94L8.5 2.5l-.94 2.06-2.06.94zm10 10l.94 2.06.94-2.06 2.06-.94-2.06-.94-.94-2.06-.94 2.06-2.06.94z\"/><path d=\"M17.41 7.96l-1.37-1.37c-.4-.4-.92-.59-1.43-.59-.52 0-1.04.2-1.43.59L10.3 9.45l-7.72 7.72c-.78.78-.78 2.05 0 2.83L4 21.41c.39.39.9.59 1.41.59.51 0 1.02-.2 1.41-.59l7.78-7.78 2.81-2.81c.8-.78.8-2.07 0-2.86zM5.41 20L4 18.59l7.72-7.72 1.47 1.35L5.41 20z\"/>\n",
              "  </svg>\n",
              "      </button>\n",
              "      \n",
              "  <style>\n",
              "    .colab-df-container {\n",
              "      display:flex;\n",
              "      flex-wrap:wrap;\n",
              "      gap: 12px;\n",
              "    }\n",
              "\n",
              "    .colab-df-convert {\n",
              "      background-color: #E8F0FE;\n",
              "      border: none;\n",
              "      border-radius: 50%;\n",
              "      cursor: pointer;\n",
              "      display: none;\n",
              "      fill: #1967D2;\n",
              "      height: 32px;\n",
              "      padding: 0 0 0 0;\n",
              "      width: 32px;\n",
              "    }\n",
              "\n",
              "    .colab-df-convert:hover {\n",
              "      background-color: #E2EBFA;\n",
              "      box-shadow: 0px 1px 2px rgba(60, 64, 67, 0.3), 0px 1px 3px 1px rgba(60, 64, 67, 0.15);\n",
              "      fill: #174EA6;\n",
              "    }\n",
              "\n",
              "    [theme=dark] .colab-df-convert {\n",
              "      background-color: #3B4455;\n",
              "      fill: #D2E3FC;\n",
              "    }\n",
              "\n",
              "    [theme=dark] .colab-df-convert:hover {\n",
              "      background-color: #434B5C;\n",
              "      box-shadow: 0px 1px 3px 1px rgba(0, 0, 0, 0.15);\n",
              "      filter: drop-shadow(0px 1px 2px rgba(0, 0, 0, 0.3));\n",
              "      fill: #FFFFFF;\n",
              "    }\n",
              "  </style>\n",
              "\n",
              "      <script>\n",
              "        const buttonEl =\n",
              "          document.querySelector('#df-c04dc687-e22e-4f08-9cba-87ccdd3d3f74 button.colab-df-convert');\n",
              "        buttonEl.style.display =\n",
              "          google.colab.kernel.accessAllowed ? 'block' : 'none';\n",
              "\n",
              "        async function convertToInteractive(key) {\n",
              "          const element = document.querySelector('#df-c04dc687-e22e-4f08-9cba-87ccdd3d3f74');\n",
              "          const dataTable =\n",
              "            await google.colab.kernel.invokeFunction('convertToInteractive',\n",
              "                                                     [key], {});\n",
              "          if (!dataTable) return;\n",
              "\n",
              "          const docLinkHtml = 'Like what you see? Visit the ' +\n",
              "            '<a target=\"_blank\" href=https://colab.research.google.com/notebooks/data_table.ipynb>data table notebook</a>'\n",
              "            + ' to learn more about interactive tables.';\n",
              "          element.innerHTML = '';\n",
              "          dataTable['output_type'] = 'display_data';\n",
              "          await google.colab.output.renderOutput(dataTable, element);\n",
              "          const docLink = document.createElement('div');\n",
              "          docLink.innerHTML = docLinkHtml;\n",
              "          element.appendChild(docLink);\n",
              "        }\n",
              "      </script>\n",
              "    </div>\n",
              "  </div>\n",
              "  "
            ]
          },
          "metadata": {},
          "execution_count": 21
        }
      ]
    },
    {
      "cell_type": "markdown",
      "source": [
        "Análise:\n",
        "\n",
        "Em média os clientes da Telco abandonam a empresa com 17,9 meses de contrato. O atributo \"tenure\"\n",
        " é medido em meses. \n",
        "\n",
        "Cada um desses clientes paga um valor médio de 74,44 dólares por mês (cálculo anterior) então, a empresa deixa de arrecadar um valor médio mensal de (17,9)x(74,44) perfazendo um total de 1.332,48 dólares, durante a sua permanência na empresa."
      ],
      "metadata": {
        "id": "lekiwmAWX9Gd"
      }
    },
    {
      "cell_type": "code",
      "source": [
        "# Calculando a média do atributo \"tenure\" em cada plano de contrato.\n",
        "# O atributo \"tenure\" é medido em meses.\n",
        "dados.groupby(['Churn', 'Contract'])['tenure'].agg(['mean'])"
      ],
      "metadata": {
        "colab": {
          "base_uri": "https://localhost:8080/",
          "height": 269
        },
        "id": "_1dsvqPbmBET",
        "outputId": "a06a2fc9-7304-4020-abfa-1fec25fcb3c3"
      },
      "execution_count": 22,
      "outputs": [
        {
          "output_type": "execute_result",
          "data": {
            "text/plain": [
              "                           mean\n",
              "Churn Contract                 \n",
              "No    Month-to-month  21.033333\n",
              "      One year        41.674063\n",
              "      Two year        56.602914\n",
              "Yes   Month-to-month  14.016918\n",
              "      One year        44.963855\n",
              "      Two year        61.270833"
            ],
            "text/html": [
              "\n",
              "  <div id=\"df-acb7180b-0851-438a-b60c-2c029c01d4a3\">\n",
              "    <div class=\"colab-df-container\">\n",
              "      <div>\n",
              "<style scoped>\n",
              "    .dataframe tbody tr th:only-of-type {\n",
              "        vertical-align: middle;\n",
              "    }\n",
              "\n",
              "    .dataframe tbody tr th {\n",
              "        vertical-align: top;\n",
              "    }\n",
              "\n",
              "    .dataframe thead th {\n",
              "        text-align: right;\n",
              "    }\n",
              "</style>\n",
              "<table border=\"1\" class=\"dataframe\">\n",
              "  <thead>\n",
              "    <tr style=\"text-align: right;\">\n",
              "      <th></th>\n",
              "      <th></th>\n",
              "      <th>mean</th>\n",
              "    </tr>\n",
              "    <tr>\n",
              "      <th>Churn</th>\n",
              "      <th>Contract</th>\n",
              "      <th></th>\n",
              "    </tr>\n",
              "  </thead>\n",
              "  <tbody>\n",
              "    <tr>\n",
              "      <th rowspan=\"3\" valign=\"top\">No</th>\n",
              "      <th>Month-to-month</th>\n",
              "      <td>21.033333</td>\n",
              "    </tr>\n",
              "    <tr>\n",
              "      <th>One year</th>\n",
              "      <td>41.674063</td>\n",
              "    </tr>\n",
              "    <tr>\n",
              "      <th>Two year</th>\n",
              "      <td>56.602914</td>\n",
              "    </tr>\n",
              "    <tr>\n",
              "      <th rowspan=\"3\" valign=\"top\">Yes</th>\n",
              "      <th>Month-to-month</th>\n",
              "      <td>14.016918</td>\n",
              "    </tr>\n",
              "    <tr>\n",
              "      <th>One year</th>\n",
              "      <td>44.963855</td>\n",
              "    </tr>\n",
              "    <tr>\n",
              "      <th>Two year</th>\n",
              "      <td>61.270833</td>\n",
              "    </tr>\n",
              "  </tbody>\n",
              "</table>\n",
              "</div>\n",
              "      <button class=\"colab-df-convert\" onclick=\"convertToInteractive('df-acb7180b-0851-438a-b60c-2c029c01d4a3')\"\n",
              "              title=\"Convert this dataframe to an interactive table.\"\n",
              "              style=\"display:none;\">\n",
              "        \n",
              "  <svg xmlns=\"http://www.w3.org/2000/svg\" height=\"24px\"viewBox=\"0 0 24 24\"\n",
              "       width=\"24px\">\n",
              "    <path d=\"M0 0h24v24H0V0z\" fill=\"none\"/>\n",
              "    <path d=\"M18.56 5.44l.94 2.06.94-2.06 2.06-.94-2.06-.94-.94-2.06-.94 2.06-2.06.94zm-11 1L8.5 8.5l.94-2.06 2.06-.94-2.06-.94L8.5 2.5l-.94 2.06-2.06.94zm10 10l.94 2.06.94-2.06 2.06-.94-2.06-.94-.94-2.06-.94 2.06-2.06.94z\"/><path d=\"M17.41 7.96l-1.37-1.37c-.4-.4-.92-.59-1.43-.59-.52 0-1.04.2-1.43.59L10.3 9.45l-7.72 7.72c-.78.78-.78 2.05 0 2.83L4 21.41c.39.39.9.59 1.41.59.51 0 1.02-.2 1.41-.59l7.78-7.78 2.81-2.81c.8-.78.8-2.07 0-2.86zM5.41 20L4 18.59l7.72-7.72 1.47 1.35L5.41 20z\"/>\n",
              "  </svg>\n",
              "      </button>\n",
              "      \n",
              "  <style>\n",
              "    .colab-df-container {\n",
              "      display:flex;\n",
              "      flex-wrap:wrap;\n",
              "      gap: 12px;\n",
              "    }\n",
              "\n",
              "    .colab-df-convert {\n",
              "      background-color: #E8F0FE;\n",
              "      border: none;\n",
              "      border-radius: 50%;\n",
              "      cursor: pointer;\n",
              "      display: none;\n",
              "      fill: #1967D2;\n",
              "      height: 32px;\n",
              "      padding: 0 0 0 0;\n",
              "      width: 32px;\n",
              "    }\n",
              "\n",
              "    .colab-df-convert:hover {\n",
              "      background-color: #E2EBFA;\n",
              "      box-shadow: 0px 1px 2px rgba(60, 64, 67, 0.3), 0px 1px 3px 1px rgba(60, 64, 67, 0.15);\n",
              "      fill: #174EA6;\n",
              "    }\n",
              "\n",
              "    [theme=dark] .colab-df-convert {\n",
              "      background-color: #3B4455;\n",
              "      fill: #D2E3FC;\n",
              "    }\n",
              "\n",
              "    [theme=dark] .colab-df-convert:hover {\n",
              "      background-color: #434B5C;\n",
              "      box-shadow: 0px 1px 3px 1px rgba(0, 0, 0, 0.15);\n",
              "      filter: drop-shadow(0px 1px 2px rgba(0, 0, 0, 0.3));\n",
              "      fill: #FFFFFF;\n",
              "    }\n",
              "  </style>\n",
              "\n",
              "      <script>\n",
              "        const buttonEl =\n",
              "          document.querySelector('#df-acb7180b-0851-438a-b60c-2c029c01d4a3 button.colab-df-convert');\n",
              "        buttonEl.style.display =\n",
              "          google.colab.kernel.accessAllowed ? 'block' : 'none';\n",
              "\n",
              "        async function convertToInteractive(key) {\n",
              "          const element = document.querySelector('#df-acb7180b-0851-438a-b60c-2c029c01d4a3');\n",
              "          const dataTable =\n",
              "            await google.colab.kernel.invokeFunction('convertToInteractive',\n",
              "                                                     [key], {});\n",
              "          if (!dataTable) return;\n",
              "\n",
              "          const docLinkHtml = 'Like what you see? Visit the ' +\n",
              "            '<a target=\"_blank\" href=https://colab.research.google.com/notebooks/data_table.ipynb>data table notebook</a>'\n",
              "            + ' to learn more about interactive tables.';\n",
              "          element.innerHTML = '';\n",
              "          dataTable['output_type'] = 'display_data';\n",
              "          await google.colab.output.renderOutput(dataTable, element);\n",
              "          const docLink = document.createElement('div');\n",
              "          docLink.innerHTML = docLinkHtml;\n",
              "          element.appendChild(docLink);\n",
              "        }\n",
              "      </script>\n",
              "    </div>\n",
              "  </div>\n",
              "  "
            ]
          },
          "metadata": {},
          "execution_count": 22
        }
      ]
    },
    {
      "cell_type": "markdown",
      "source": [
        "Análise:\n",
        "\n",
        "O tempo de permanência em cada plano, dos clientes que abandonam a empresa, medido em meses pelo atributo \"tenure\" é de 14,02 meses para o plano mês a mês, 44,96 meses para o plano de um ano e 61,27 meses para o plano de dois anos. Nota-se que o plano mês a mês tem o menor tempo de pernamência na empresa, indicando possivlmente uma insatisfação desses clientes, motivando a sua desistência e que precisa ser averiguada pela Telco."
      ],
      "metadata": {
        "id": "dmcumcO3qBem"
      }
    },
    {
      "cell_type": "code",
      "source": [
        "# Calculando quantos clientes deixaram a empresa em cada plano de serviços contratados\n",
        "# Calculando a taxa de rotatividade de clientes em cada plano\n",
        "dados.groupby('Churn')['Contract'].value_counts().sort_index()"
      ],
      "metadata": {
        "colab": {
          "base_uri": "https://localhost:8080/"
        },
        "id": "fjdvHcASCFpJ",
        "outputId": "6ed08ece-81ae-4412-cc61-50e251d92f0a"
      },
      "execution_count": 23,
      "outputs": [
        {
          "output_type": "execute_result",
          "data": {
            "text/plain": [
              "Churn  Contract      \n",
              "No     Month-to-month    2220\n",
              "       One year          1307\n",
              "       Two year          1647\n",
              "Yes    Month-to-month    1655\n",
              "       One year           166\n",
              "       Two year            48\n",
              "Name: Contract, dtype: int64"
            ]
          },
          "metadata": {},
          "execution_count": 23
        }
      ]
    },
    {
      "cell_type": "markdown",
      "source": [
        "Análise:\n",
        "\n",
        "Observa-se que a quantidade de clientes que abandonam a Telco é superior no plano de pagamento mês a mês (1655 clientes) do que nos demais planos. Seria interessante que a empresa revisasse os serviços oferecidos neste plano e que, possivelmente, não está agradando o seu público.\n",
        "\n",
        "Taxa de rotatividade de cada plano:\n",
        "\n",
        "No plano mês a mês a taxa de rotatidivade (TR) é igual a: TR = 1655 / (2220+1655) = 0,42,71 = 42,71%.\n",
        "No plano de um ano, temos: TR = 166 / (166+1307) = 11,27%.\n",
        "No plano de dois anos, temos: TR = 48 / (48+1647) = 2,83%.\n",
        "\n",
        "Nota-se que o plano mês a mês tem a maior taxa de abandono de clientes."
      ],
      "metadata": {
        "id": "6TH-tSV7FpIW"
      }
    },
    {
      "cell_type": "code",
      "source": [
        "# Agrupando o atributo \"Churn\" e calculando o valor médio mensal dos planos,\n",
        "# contando a quantidade de clientes e a soma dos valores pagaos em cada plano,\n",
        "# dos que abandonam e não abandonam. \n",
        "dados.groupby(['Churn', 'Contract'])['MonthlyCharges'].agg(['count','mean','sum'])"
      ],
      "metadata": {
        "colab": {
          "base_uri": "https://localhost:8080/",
          "height": 269
        },
        "id": "xKfBnPYgHF6e",
        "outputId": "9532874d-8478-4fc8-d597-8695208cd63e"
      },
      "execution_count": 24,
      "outputs": [
        {
          "output_type": "execute_result",
          "data": {
            "text/plain": [
              "                      count       mean        sum\n",
              "Churn Contract                                   \n",
              "No    Month-to-month   2220  61.462635  136447.05\n",
              "      One year         1307  62.508148   81698.15\n",
              "      Two year         1647  60.012477   98840.55\n",
              "Yes   Month-to-month   1655  73.019396  120847.10\n",
              "      One year          166  85.050904   14118.45\n",
              "      Two year           48  86.777083    4165.30"
            ],
            "text/html": [
              "\n",
              "  <div id=\"df-bb51a4c8-0ea7-48c0-8433-e92e7e064d08\">\n",
              "    <div class=\"colab-df-container\">\n",
              "      <div>\n",
              "<style scoped>\n",
              "    .dataframe tbody tr th:only-of-type {\n",
              "        vertical-align: middle;\n",
              "    }\n",
              "\n",
              "    .dataframe tbody tr th {\n",
              "        vertical-align: top;\n",
              "    }\n",
              "\n",
              "    .dataframe thead th {\n",
              "        text-align: right;\n",
              "    }\n",
              "</style>\n",
              "<table border=\"1\" class=\"dataframe\">\n",
              "  <thead>\n",
              "    <tr style=\"text-align: right;\">\n",
              "      <th></th>\n",
              "      <th></th>\n",
              "      <th>count</th>\n",
              "      <th>mean</th>\n",
              "      <th>sum</th>\n",
              "    </tr>\n",
              "    <tr>\n",
              "      <th>Churn</th>\n",
              "      <th>Contract</th>\n",
              "      <th></th>\n",
              "      <th></th>\n",
              "      <th></th>\n",
              "    </tr>\n",
              "  </thead>\n",
              "  <tbody>\n",
              "    <tr>\n",
              "      <th rowspan=\"3\" valign=\"top\">No</th>\n",
              "      <th>Month-to-month</th>\n",
              "      <td>2220</td>\n",
              "      <td>61.462635</td>\n",
              "      <td>136447.05</td>\n",
              "    </tr>\n",
              "    <tr>\n",
              "      <th>One year</th>\n",
              "      <td>1307</td>\n",
              "      <td>62.508148</td>\n",
              "      <td>81698.15</td>\n",
              "    </tr>\n",
              "    <tr>\n",
              "      <th>Two year</th>\n",
              "      <td>1647</td>\n",
              "      <td>60.012477</td>\n",
              "      <td>98840.55</td>\n",
              "    </tr>\n",
              "    <tr>\n",
              "      <th rowspan=\"3\" valign=\"top\">Yes</th>\n",
              "      <th>Month-to-month</th>\n",
              "      <td>1655</td>\n",
              "      <td>73.019396</td>\n",
              "      <td>120847.10</td>\n",
              "    </tr>\n",
              "    <tr>\n",
              "      <th>One year</th>\n",
              "      <td>166</td>\n",
              "      <td>85.050904</td>\n",
              "      <td>14118.45</td>\n",
              "    </tr>\n",
              "    <tr>\n",
              "      <th>Two year</th>\n",
              "      <td>48</td>\n",
              "      <td>86.777083</td>\n",
              "      <td>4165.30</td>\n",
              "    </tr>\n",
              "  </tbody>\n",
              "</table>\n",
              "</div>\n",
              "      <button class=\"colab-df-convert\" onclick=\"convertToInteractive('df-bb51a4c8-0ea7-48c0-8433-e92e7e064d08')\"\n",
              "              title=\"Convert this dataframe to an interactive table.\"\n",
              "              style=\"display:none;\">\n",
              "        \n",
              "  <svg xmlns=\"http://www.w3.org/2000/svg\" height=\"24px\"viewBox=\"0 0 24 24\"\n",
              "       width=\"24px\">\n",
              "    <path d=\"M0 0h24v24H0V0z\" fill=\"none\"/>\n",
              "    <path d=\"M18.56 5.44l.94 2.06.94-2.06 2.06-.94-2.06-.94-.94-2.06-.94 2.06-2.06.94zm-11 1L8.5 8.5l.94-2.06 2.06-.94-2.06-.94L8.5 2.5l-.94 2.06-2.06.94zm10 10l.94 2.06.94-2.06 2.06-.94-2.06-.94-.94-2.06-.94 2.06-2.06.94z\"/><path d=\"M17.41 7.96l-1.37-1.37c-.4-.4-.92-.59-1.43-.59-.52 0-1.04.2-1.43.59L10.3 9.45l-7.72 7.72c-.78.78-.78 2.05 0 2.83L4 21.41c.39.39.9.59 1.41.59.51 0 1.02-.2 1.41-.59l7.78-7.78 2.81-2.81c.8-.78.8-2.07 0-2.86zM5.41 20L4 18.59l7.72-7.72 1.47 1.35L5.41 20z\"/>\n",
              "  </svg>\n",
              "      </button>\n",
              "      \n",
              "  <style>\n",
              "    .colab-df-container {\n",
              "      display:flex;\n",
              "      flex-wrap:wrap;\n",
              "      gap: 12px;\n",
              "    }\n",
              "\n",
              "    .colab-df-convert {\n",
              "      background-color: #E8F0FE;\n",
              "      border: none;\n",
              "      border-radius: 50%;\n",
              "      cursor: pointer;\n",
              "      display: none;\n",
              "      fill: #1967D2;\n",
              "      height: 32px;\n",
              "      padding: 0 0 0 0;\n",
              "      width: 32px;\n",
              "    }\n",
              "\n",
              "    .colab-df-convert:hover {\n",
              "      background-color: #E2EBFA;\n",
              "      box-shadow: 0px 1px 2px rgba(60, 64, 67, 0.3), 0px 1px 3px 1px rgba(60, 64, 67, 0.15);\n",
              "      fill: #174EA6;\n",
              "    }\n",
              "\n",
              "    [theme=dark] .colab-df-convert {\n",
              "      background-color: #3B4455;\n",
              "      fill: #D2E3FC;\n",
              "    }\n",
              "\n",
              "    [theme=dark] .colab-df-convert:hover {\n",
              "      background-color: #434B5C;\n",
              "      box-shadow: 0px 1px 3px 1px rgba(0, 0, 0, 0.15);\n",
              "      filter: drop-shadow(0px 1px 2px rgba(0, 0, 0, 0.3));\n",
              "      fill: #FFFFFF;\n",
              "    }\n",
              "  </style>\n",
              "\n",
              "      <script>\n",
              "        const buttonEl =\n",
              "          document.querySelector('#df-bb51a4c8-0ea7-48c0-8433-e92e7e064d08 button.colab-df-convert');\n",
              "        buttonEl.style.display =\n",
              "          google.colab.kernel.accessAllowed ? 'block' : 'none';\n",
              "\n",
              "        async function convertToInteractive(key) {\n",
              "          const element = document.querySelector('#df-bb51a4c8-0ea7-48c0-8433-e92e7e064d08');\n",
              "          const dataTable =\n",
              "            await google.colab.kernel.invokeFunction('convertToInteractive',\n",
              "                                                     [key], {});\n",
              "          if (!dataTable) return;\n",
              "\n",
              "          const docLinkHtml = 'Like what you see? Visit the ' +\n",
              "            '<a target=\"_blank\" href=https://colab.research.google.com/notebooks/data_table.ipynb>data table notebook</a>'\n",
              "            + ' to learn more about interactive tables.';\n",
              "          element.innerHTML = '';\n",
              "          dataTable['output_type'] = 'display_data';\n",
              "          await google.colab.output.renderOutput(dataTable, element);\n",
              "          const docLink = document.createElement('div');\n",
              "          docLink.innerHTML = docLinkHtml;\n",
              "          element.appendChild(docLink);\n",
              "        }\n",
              "      </script>\n",
              "    </div>\n",
              "  </div>\n",
              "  "
            ]
          },
          "metadata": {},
          "execution_count": 24
        }
      ]
    },
    {
      "cell_type": "markdown",
      "source": [
        "\n",
        "Análise:\n",
        "\n",
        "O valor médio do plano de pagamento mês a mês, dos clientes que abandonam a Telco, é de 73,02 dólares. Nota-se que este valor é maior do que o valor médio (61,46 dólares) dos clientes que não abandonam a Telco, considerando o mesmo plano de pagamento. Talvez esse possa ser o motivo que leva o cliente abandonar a empresa. Seria interessante a empresa observar o valor desse tipo de plano de pagamento dos seus concorrentes. \n",
        "\n",
        "A Receita recorrente mensal (MRR) é obtida observando-se o quanto a empresa deixou de arrecadar, no último mês. No plano mês a mês essa quantia é de MRR = 120.847,10 dólares. O MRR em porcentagem é de MRR(%) = 120,847,10/(120.847,10 + 136.447,05) = 0,4697 = 46,97%. No plano de um ano, temos MRR = 14.118,45 que em porcentagem é igual a MRR(%) = 14.118,45/(14.118,45 + 81.698,15)= 14,73%. No plano de dois anos, temos MRR = 4.165,30. Em porcentagem é igual a: MRR(%) = 4.165,30/(4.165,30 + 98.840,55) = 4,04%.\n",
        "\n",
        "Nota-se que o plano mês a mês tem um impacto financeiro maior que os demais planos porque possui um MRR mais elevado."
      ],
      "metadata": {
        "id": "Vhi5L7EnEN28"
      }
    },
    {
      "cell_type": "markdown",
      "source": [
        "# **3 - PERFIL DO CLIENTE QUE ABANDONA (CHURN)**\n",
        "\n",
        "O atributo \"Churn\" no conjunto de dados utilizado neste projeto indica se o cliente da Telco abandonou ou não a empresa no último mês.\n",
        "\n",
        "Considerando aqueles clientes que abandonaram a empresa no último mês destacamos as seguintes características que compõe o seu perfil, considerando os aspectos demográficos, as informações da conta do cliente e os serviços para os quais cada cliente se inscreveu.\n",
        "\n",
        "Essas características que compõe o perfil dos clientes que abandonaram a empresa foram obtidas das análises realizadas nos tópicos anteriores."
      ],
      "metadata": {
        "id": "BEbN-NhluE2o"
      }
    },
    {
      "cell_type": "markdown",
      "source": [
        "**Abandono (Churn):** entre os clientes da Telco 26,54% deles abandonaram a empresa no último mês, sendo esta a taxa de rotatividade."
      ],
      "metadata": {
        "id": "WJdRVB1sT4P9"
      }
    },
    {
      "cell_type": "markdown",
      "source": [
        "**Aspectos demográficos:** quanto ao ***gênero sexual*** percebe-se que não há interferência desse aspecto no abandono.A quantidade de abandonos no sexo masculino é a mesma que no sexo feminino. Há uma maior incidência de ***não idosos*** nos clientes que abandonaram a Telco. Portanto, ser idoso não contribui para o cliente abandonar a empresa. Quanto a ***união conjugal***, nota-se que predominam os não casados entre os clientes que deixaram de utilizar os serviços da Telco. A maioria dos clientes que abandonam a empresa não possuem ***dependentes.***"
      ],
      "metadata": {
        "id": "h1m6kqjoZhyO"
      }
    },
    {
      "cell_type": "markdown",
      "source": [
        "**Informações da conta do cliente:** os clientes da Telco tem um tempo médio de ***permanência na empresa*** que varia de acordo com o plano contratado. No plano mês a mês esse tempo é de 14,02 meses; no plano de um ano é de 44,96 meses e no pano de dois anos é de 61,27 meses até abandonar. Nos 5 primeiros meses deste período ocorrem um maior número de abandonos (em torno de 680 abandonos) e este período pode ser considerado como o tempo de experiência do cliente com a empresa, onde os seus seviços contratados são testados. O tipo de ***contrato*** da maioria dos clientes que abandonam a empresa é mensal e realizam os pagamentos por via eletrônica. Nota-se, ainda, que cada um que abandonou a empresa pagava um ***valor médio mensal***  que também varia de acordo com o plano contratado, sendo de 73,02 dólares para o plano mês a mês. "
      ],
      "metadata": {
        "id": "2DqHR4t3HVoK"
      }
    },
    {
      "cell_type": "markdown",
      "source": [
        "**Serviços contratados pelos clientes:** A maioria dos clientes (1699 clientes) que abandonam a Telco possuem ***serviços telefônicos*** e que possuir múltiplas linhas telefônicas não interfere na atitude de abandono da empresa. Grande parte dos clientes que abandonam a Telco possuem ***serviços de internet*** de fibra optica. Outras características dos serviços contratados é que os clientes que abandonam a Telco a maioria não possuem ***serviços de backup online***; em menor quantidade possuem s***erviços de segurança online***, ***dispositivos de proteção*** e ***suporte técnico***. Os clientes que abandonam a Telco, a maioria, não possuem ***serviço de streaming de TV e de Filme***.\n",
        "\n",
        "\n",
        "**Resumindo:** considerando somente os que abandonaram a empresa no último mês.\n",
        "\n",
        "**26,54%** abandonaramm no último mês.\n",
        "\n",
        "**Gênero sexual** não interfere no abandono.\n",
        "\n",
        "**Não idosos** é a maioria.\n",
        "\n",
        "**Não casados** predomina nos abandonos.\n",
        "\n",
        "**Dependentes** a maioria não possui.\n",
        "\n",
        "**14,02 meses** é o tempo médio de permanência dos que abandonam a empresa com contrato mês a mÊs.\n",
        "\n",
        "**5 primeiros meses** é o tempo de experiência com a empresa.\n",
        "\n",
        "**Contrato mensal** é o tipo de contrato que predomina dos que abandonam.\n",
        "\n",
        "**Via eletrônica** é o tipo de pagamento que predomina no abandono.\n",
        "\n",
        "**73,02 dólares** é o pagamento médio mensal dos que abandonam com contrato mês a mês."
      ],
      "metadata": {
        "id": "2aQWd1YRM9Ni"
      }
    },
    {
      "cell_type": "markdown",
      "source": [
        "# 4 - **RECOMENDAÇÕES**\n",
        "\n",
        "Observando o perfil dos clientes que abandonam a Telco as segintes hipóteses, que levam os clientes evadirem, podem ser consideradas:\n",
        "*   O tipo de serviço oferecido pela Telco não corresponde às expectativas dos clientes jovens (não idosos), solteiros (não casados) de ambos os sexos.\n",
        "*   Os produtos oferecidos pela empresa podem não ser de boa qualidade devido ao pouco tempo de permanência como cliente até abandonar (14,02 meses).\n",
        "*   Pode haver concorrentes no mercado oferecendo melhores preços (menos que 73,02 dólares mensais).\n",
        "\n",
        "Mediante estas hipóteses as seguites recomendações para evitar a rotatividade dos clientes, são sugeridas:\n",
        "*   Oferecer serviços que gere mais satisfação para o público jovem e solteiros de ambos os sexos.\n",
        "*   Melhorar a qualidade dos serviços oferecidos, aumentando o tempo de permanência dos clientes.\n",
        "*   Rever a política de preços da empresa.\n",
        "\n",
        "Deve ser considerado que cada cliente que deixa a Telco, a empresa deixa de faturar 120.847,10 dólares (tabela 2), somente no plano mês a mês, produzaindo um impacto negativo no seu faturamento. Por este motivo, a Telco não deve gastar mais que 120.847,10 dóleres para retê-lo."
      ],
      "metadata": {
        "id": "XctDL-jfpba1"
      }
    }
  ]
}